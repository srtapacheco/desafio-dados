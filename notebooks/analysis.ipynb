{
  "nbformat": 4,
  "nbformat_minor": 0,
  "metadata": {
    "colab": {
      "provenance": [],
      "collapsed_sections": [
        "1PU_Vl-LYDy8",
        "KS2QTUjtRpGl",
        "K-6RSSfBWxtn",
        "n4udqfE4NqiU"
      ]
    },
    "kernelspec": {
      "name": "python3",
      "display_name": "Python 3"
    },
    "language_info": {
      "name": "python"
    }
  },
  "cells": [
    {
      "cell_type": "markdown",
      "source": [
        "# **Desafio de Cientista de Dados - Análise e Tratamento de Dados**\n",
        "\n",
        "## **Introdução**\n",
        "Este notebook tem como objetivo realizar a análise e tratamento de um conjunto de dados brutos (`dados_ficha_a_desafio.csv`). O desafio envolve:\n",
        "\n",
        "- Exploração e identificação de problemas no dataset\n",
        "- Tratamento dos dados utilizando **Python e Pandas**"
      ],
      "metadata": {
        "id": "6ntc3AzoQ-CG"
      }
    },
    {
      "cell_type": "markdown",
      "source": [
        "## **Descrição Geral do Dataset**\n",
        "\n",
        "O conjunto de dados analisado refere-se a um cadastro detalhado de pacientes, incluindo variáveis demográficas, socioeconômicas, dados de saúde e atendimentos médicos realizados. Os dados provavelmente têm origem em sistemas diversos, considerando campos com preenchimento manual, como ocupação, escolaridade e outros campos de texto livre, que frequentemente apresentam erros de digitação e inconsistências."
      ],
      "metadata": {
        "id": "ooljvETQlADa"
      }
    },
    {
      "cell_type": "markdown",
      "source": [
        "## **Decisões técnicas adotadas (Diretórios, Git e Branches)**\n",
        "\n",
        "As práticas de versionamento adotadas seguem o modelo observado no projeto oficial da Secretaria Municipal de Saúde do Rio do github:\n",
        "\n",
        "- **Branches com prefixos em inglês (`feat/`, `fix/`)** indicam o tipo de alteração.\n",
        "- **Pull Requests:** em português\n",
        "- **Commits individuais:** em inglês\n",
        "- **Branches:** em inglês, usando prefixos\n",
        "\n",
        "\n",
        "\n",
        "## **Definição de Diretório**\n",
        "\n",
        "\n",
        "```bash\n",
        "desafio-dados/\n",
        "├── data/                              # Dados brutos e arquivos auxiliares\n",
        "│   ├── dados_ficha_a_desafio.csv      # Dataset original\n",
        "│   ├── descricao_de_campos.xlsx       # Descrição dos campos do dataset\n",
        "│\n",
        "├── dbt_project/                        # Projeto DBT para transformação de dados\n",
        "│   ├── models/                         # Modelos SQL criados para transformação\n",
        "│   ├── dbt_project.yml                  # Configuração do DBT\n",
        "│\n",
        "├── notebooks/                          # Notebooks para análise exploratória\n",
        "│   ├── analysis.ipynb      # Notebook com exploração, analise e\n",
        "│\n",
        "├── scripts/                            # Scripts auxiliares para tratamento de dados\n",
        "│\n",
        "├── sql/                                # Scripts SQL antes e depois da transformação\n",
        "│   ├── raw_data.sql                # Dump do banco antes da limpeza\n",
        "│   ├── processed_data.sql             # Dump do banco após a limpeza e transformação\n",
        "│\n",
        "├── README.md                           \n",
        "├── .gitignore\n",
        "├── relatórios de desenvolvimento.pdf                           \n",
        "```"
      ],
      "metadata": {
        "id": "8aMY4VAbjmzK"
      }
    },
    {
      "cell_type": "markdown",
      "source": [
        "## **Exploração e Análise dos Dados**"
      ],
      "metadata": {
        "id": "G23nPHzMsmsj"
      }
    },
    {
      "cell_type": "markdown",
      "source": [
        "### Características gerais dos dados:"
      ],
      "metadata": {
        "id": "l69Ty9XadBpn"
      }
    },
    {
      "cell_type": "code",
      "source": [
        "import pandas as pd\n",
        "import numpy as np\n",
        "\n",
        "df = pd.read_csv(\"dados_ficha_a_desafio.csv\")\n",
        "\n",
        "print(\"\\n\" + \"=\"*50)\n",
        "print(\"Primeiras 10 Linhas do DataFrame:\")\n",
        "print(\"=\"*50)\n",
        "print(df.head(20))\n"
      ],
      "metadata": {
        "colab": {
          "base_uri": "https://localhost:8080/",
          "height": 0
        },
        "id": "V1_FSADBUM7-",
        "outputId": "ac4eef4c-6a32-4a22-948a-704eae3e4c2d"
      },
      "execution_count": 29,
      "outputs": [
        {
          "output_type": "stream",
          "name": "stdout",
          "text": [
            "\n",
            "==================================================\n",
            "Primeiras 10 Linhas do DataFrame:\n",
            "==================================================\n",
            "                             id_paciente    sexo  obito  \\\n",
            "0   cd6daa6e-038d-4952-af29-579e62e07f97    male      0   \n",
            "1   ad6cecb2-3a44-49ab-b2f3-6f9ffc2e2ec7    male      0   \n",
            "2   54e834e7-e722-4daa-8909-cf917a1247e6    male      0   \n",
            "3   c6a71e5e-0933-48d1-9d5a-8f448dc37f71  female  False   \n",
            "4   d5262a3c-e5d3-4195-a46b-0acd2533e1d6    male      0   \n",
            "5   4cc6a63c-61d3-49c0-807c-089c3d960956  female      0   \n",
            "6   845241a6-be84-4c77-ae3a-751da1f9d434    male      0   \n",
            "7   bc094be5-82fa-42b5-a22e-fa7ec64cb1fb  female      0   \n",
            "8   ab4595b2-c3de-4993-91f5-dfabd8202e12    male      0   \n",
            "9   cc2c75b0-4a49-4a22-9ac0-071e05e90411    male      0   \n",
            "10  fe153172-1dc2-400c-8d7f-b7515ece9be0  female      0   \n",
            "11  1265015b-5a6e-4b8c-8271-1c2c95371835  female      0   \n",
            "12  3347541c-7478-49d7-ad3c-c549b51f26d6  female      0   \n",
            "13  e9673453-0bba-4d29-8dae-cc5c0468f200  female      0   \n",
            "14  c6910130-18bf-4497-909f-ff6d11cc9e5a    male      0   \n",
            "15  6b987e87-8bf7-4342-8399-58edbf5e3ef2  female      0   \n",
            "16  0630860e-f03f-4c0d-8729-a572d89a9008  female      0   \n",
            "17  42ed411c-5f8b-421b-8ac9-9311f2e6ec31    male  False   \n",
            "18  ee7fa9aa-aec6-47f5-9270-e2a596a1245c  female      0   \n",
            "19  eac383b4-b78b-4e0e-bf08-2a61d4b2f8cd  female      0   \n",
            "\n",
            "                            bairro raca_cor  \\\n",
            "0                  Parada de Lucas   Branca   \n",
            "1                      Cidade Nova    Parda   \n",
            "2                       Santa cruz    Parda   \n",
            "3                            Bangu   Branca   \n",
            "4                       Santíssimo   Branca   \n",
            "5   Jardim Vinte e Cinco de Agosto    Parda   \n",
            "6                   Penha Circular    Parda   \n",
            "7                        Guadalupe    Parda   \n",
            "8                       Manguinhos    Parda   \n",
            "9                            Irajá    Parda   \n",
            "10          Ricardo de Albuquerque    Parda   \n",
            "11               Condado de Maricá    Preta   \n",
            "12                        Anchieta    Parda   \n",
            "13                   Vila da Penha    Parda   \n",
            "14                  Senador Camará    Preta   \n",
            "15                      Bonsucesso    Parda   \n",
            "16                     Jacarepaguá    Parda   \n",
            "17                      Bonsucesso    Parda   \n",
            "18                           Gávea   Branca   \n",
            "19                        Realengo   Branca   \n",
            "\n",
            "                                   ocupacao      religiao luz_eletrica  \\\n",
            "0                             Não se aplica  Sem religião         True   \n",
            "1                 Assistente Administrativo    Evangélica            1   \n",
            "2                             Não se aplica      Católica            1   \n",
            "3          Representante Comercial Autônomo  Sem religião            1   \n",
            "4                       Técnico Eletricista         Outra         True   \n",
            "5                     Porteiro de Edifícios      Católica         True   \n",
            "6                             Não se aplica  Sem religião            1   \n",
            "7                             Não se aplica  Sem religião            1   \n",
            "8                         Motorista de Táxi    Evangélica            0   \n",
            "9                             Não se aplica         Outra            1   \n",
            "10  Técnico de Telecomunicações (telefonia)         Outra         True   \n",
            "11                            Administrador         Outra            1   \n",
            "12                            Não se aplica    Evangélica         True   \n",
            "13                            Não se aplica    Evangélica            1   \n",
            "14                                 Manicure  Sem religião            1   \n",
            "15                            Não se aplica    Evangélica            1   \n",
            "16                  Atendente de Lanchonete  Sem religião            1   \n",
            "17                  Vendedor permissionário    Evangélica            1   \n",
            "18                            Não se aplica  Sem religião         True   \n",
            "19                            Não se aplica      Católica            1   \n",
            "\n",
            "              data_cadastro            escolaridade  ...  \\\n",
            "0   2021-06-24 00:00:00.000  Fundamental Incompleto  ...   \n",
            "1   2021-01-07 00:00:00.000        Médio Incompleto  ...   \n",
            "2   2021-02-18 00:00:00.000    Fundamental Completo  ...   \n",
            "3       2022-03-09 10:40:37            Alfabetizado  ...   \n",
            "4       2022-12-13 18:30:45          Médio Completo  ...   \n",
            "5   2021-05-13 00:00:00.000  Fundamental Incompleto  ...   \n",
            "6   2021-05-19 13:47:06.500          Médio Completo  ...   \n",
            "7   2021-08-02 16:16:51.490    Fundamental Completo  ...   \n",
            "8   2021-10-06 00:00:00.000  Fundamental Incompleto  ...   \n",
            "9   2022-12-20 07:16:32.703        Médio Incompleto  ...   \n",
            "10  2022-11-23 09:51:47.917    Fundamental Completo  ...   \n",
            "11  2021-05-15 00:00:00.000    Fundamental Completo  ...   \n",
            "12  2017-06-13 00:00:00.000    Fundamental Completo  ...   \n",
            "13  2023-09-04 08:50:08.440   Não sabe ler/escrever  ...   \n",
            "14  2021-05-27 00:00:00.000          Médio Completo  ...   \n",
            "15  2024-10-10 14:01:31.260    Fundamental Completo  ...   \n",
            "16  2024-09-04 14:53:10.823  Fundamental Incompleto  ...   \n",
            "17  2024-08-06 10:36:06.193          Médio Completo  ...   \n",
            "18  2022-05-27 09:02:14.457    Fundamental Completo  ...   \n",
            "19  2022-02-23 00:00:00.000          Médio Completo  ...   \n",
            "\n",
            "   familia_beneficiaria_auxilio_brasil crianca_matriculada_creche_pre_escola  \\\n",
            "0                                    0                                     0   \n",
            "1                                    1                                     0   \n",
            "2                                    0                                     0   \n",
            "3                                    1                                     1   \n",
            "4                                    0                                     0   \n",
            "5                                False                                     0   \n",
            "6                                    0                                     1   \n",
            "7                                False                                     0   \n",
            "8                                    0                                 False   \n",
            "9                                 True                                     1   \n",
            "10                                   0                                 False   \n",
            "11                                   0                                     0   \n",
            "12                                   0                                     0   \n",
            "13                                   1                                     0   \n",
            "14                               False                                 False   \n",
            "15                                   0                                     1   \n",
            "16                                   0                                     1   \n",
            "17                                   0                                 False   \n",
            "18                                   0                                     0   \n",
            "19                                   0                                 False   \n",
            "\n",
            "   altura    peso  pressao_sistolica pressao_diastolica  \\\n",
            "0   172.0   52.50              110.0               70.0   \n",
            "1   158.0   76.20              140.0               80.0   \n",
            "2    53.0   82.50              180.0               60.0   \n",
            "3   164.0   90.60              120.0               70.0   \n",
            "4   154.0    8.50              180.0               80.0   \n",
            "5   170.0   78.40              120.0               80.0   \n",
            "6   155.0   60.00              140.0               70.0   \n",
            "7    54.5   64.00              120.0               90.0   \n",
            "8    63.0   64.00              110.0               80.0   \n",
            "9    60.0   93.10              150.0               60.0   \n",
            "10  153.0  102.70              190.0               80.0   \n",
            "11  172.0   28.90              136.0               70.0   \n",
            "12  151.0   96.00              140.0              100.0   \n",
            "13   72.0   51.20              110.0               80.0   \n",
            "14  101.0   74.80              140.0               70.0   \n",
            "15  162.0   60.30              140.0               80.0   \n",
            "16  149.0   53.40              120.0               80.0   \n",
            "17  175.0   15.00              140.0               80.0   \n",
            "18  173.0    3.59              120.0               80.0   \n",
            "19  169.0   19.20              120.0               70.0   \n",
            "\n",
            "   n_atendimentos_atencao_primaria n_atendimentos_hospital  \\\n",
            "0                                8                       9   \n",
            "1                                0                       6   \n",
            "2                                5                       2   \n",
            "3                                0                      27   \n",
            "4                               25                       0   \n",
            "5                                7                       0   \n",
            "6                                0                       6   \n",
            "7                               10                       0   \n",
            "8                                2                      50   \n",
            "9                                5                      12   \n",
            "10                               1                      29   \n",
            "11                               2                       0   \n",
            "12                               0                      16   \n",
            "13                               4                       0   \n",
            "14                               2                       5   \n",
            "15                              16                       0   \n",
            "16                               9                       0   \n",
            "17                              14                      14   \n",
            "18                               5                       0   \n",
            "19                              11                       0   \n",
            "\n",
            "                 updated_at       tipo  \n",
            "0   2021-06-01 00:00:00.000  historico  \n",
            "1   2020-06-25 00:00:00.000  historico  \n",
            "2   2020-03-02 00:00:00.000  historico  \n",
            "3   2021-11-05 11:08:17.477  rotineiro  \n",
            "4   2020-11-11 00:00:00.000  historico  \n",
            "5   2024-08-15 18:51:00.120  historico  \n",
            "6   1900-01-01 00:00:00.000  historico  \n",
            "7   2020-09-02 00:00:00.000  historico  \n",
            "8       2024-11-06 10:54:20  historico  \n",
            "9   2020-09-04 00:00:00.000  historico  \n",
            "10  2022-07-01 00:16:02.133  historico  \n",
            "11  2021-08-26 00:00:00.000  historico  \n",
            "12      2023-05-10 09:22:37  historico  \n",
            "13  2023-01-14 10:15:51.250  historico  \n",
            "14  2024-04-30 16:03:08.350  historico  \n",
            "15      2021-12-15 12:00:00  historico  \n",
            "16  2020-08-25 00:00:00.000  historico  \n",
            "17  2023-04-14 17:59:37.453  historico  \n",
            "18  2019-09-18 00:00:00.000  historico  \n",
            "19  2022-09-29 16:43:33.170  historico  \n",
            "\n",
            "[20 rows x 35 columns]\n"
          ]
        }
      ]
    },
    {
      "cell_type": "markdown",
      "source": [
        "Minhas Observações iniciais:\n",
        "\n",
        "1. **Campo 'ocupacao':** Verificar quantas ocupações únicas existem para determinar se os dados foram inseridos por meio de uma lista pré-definida (select) ou por um campo aberto de texto. Caso seja um campo aberto, é provável que haja profissões iguais escritas de maneiras diferentes, causando inconsistências.\n",
        "\n",
        "2. **Campo 'obito':** Este campo apresenta diferentes valores (0, 1 e False). Precisa-se confirmar se existem três valores distintos ou apenas dois (0 e False). Analisar um campo misturando tipos de dados (string e int) é mais complexo e pode causar erros na análise. Idealmente, o campo deveria conter apenas valores inteiros (0 e 1).\n",
        "\n",
        "3. **Campo 'ocupacao' com 'Não se aplica':** A expressão \"Não se aplica\" é confusa e dificulta deduzir claramente que a pessoa não possui ocupação. Recomenda-se padronizar esta informação com algo mais claro como \"Sem ocupação\" ou \"Desempregado\".\n",
        "\n",
        "4. **Campo 'luz_eletrica':** Há inconsistências com três tipos diferentes de valores encontrados: True, 0 e 1. Este campo deve ser exclusivamente booleano (True/False). Investigar a causa desses diferentes valores (por exemplo, importação incorreta ou erro no preenchimento).\n",
        "\n",
        "5. **Campos 'data_cadastro' e 'updated_at':** Em vários registros, esses campos possuem apenas a data, sem o horário associado.\n",
        "\n",
        "6. **Campos 'familia_beneficiaria_auxilio_brasil' e 'crianca_matriculada_creche_pre_escola':** Estes campos também apresentam uma mistura de valores como 0, 1 e False. Para simplificar análises futuras, deve-se padronizar esses campos como booleanos (True/False) ou inteiros (0/1)."
      ],
      "metadata": {
        "id": "zW1ddSrPUUsE"
      }
    },
    {
      "cell_type": "code",
      "source": [
        "# Verificar informações gerais sobre os dados\n",
        "print(\"\\n\" + \"=\"*50)\n",
        "print(\"Informações Gerais sobre o DataFrame:\")\n",
        "print(\"=\"*50)\n",
        "print(df.info())"
      ],
      "metadata": {
        "colab": {
          "base_uri": "https://localhost:8080/",
          "height": 0
        },
        "id": "Ewp1LG0LdrbK",
        "outputId": "880f466e-4bf3-4bb8-b563-381a12b47c42"
      },
      "execution_count": 30,
      "outputs": [
        {
          "output_type": "stream",
          "name": "stdout",
          "text": [
            "\n",
            "==================================================\n",
            "Informações Gerais sobre o DataFrame:\n",
            "==================================================\n",
            "<class 'pandas.core.frame.DataFrame'>\n",
            "RangeIndex: 100000 entries, 0 to 99999\n",
            "Data columns (total 35 columns):\n",
            " #   Column                                 Non-Null Count   Dtype  \n",
            "---  ------                                 --------------   -----  \n",
            " 0   id_paciente                            100000 non-null  object \n",
            " 1   sexo                                   100000 non-null  object \n",
            " 2   obito                                  100000 non-null  object \n",
            " 3   bairro                                 100000 non-null  object \n",
            " 4   raca_cor                               100000 non-null  object \n",
            " 5   ocupacao                               100000 non-null  object \n",
            " 6   religiao                               100000 non-null  object \n",
            " 7   luz_eletrica                           100000 non-null  object \n",
            " 8   data_cadastro                          100000 non-null  object \n",
            " 9   escolaridade                           100000 non-null  object \n",
            " 10  nacionalidade                          100000 non-null  object \n",
            " 11  renda_familiar                         100000 non-null  object \n",
            " 12  data_nascimento                        100000 non-null  object \n",
            " 13  em_situacao_de_rua                     100000 non-null  object \n",
            " 14  frequenta_escola                       100000 non-null  int64  \n",
            " 15  meios_transporte                       100000 non-null  object \n",
            " 16  doencas_condicoes                      100000 non-null  object \n",
            " 17  identidade_genero                      99048 non-null   object \n",
            " 18  meios_comunicacao                      100000 non-null  object \n",
            " 19  orientacao_sexual                      100000 non-null  object \n",
            " 20  possui_plano_saude                     100000 non-null  object \n",
            " 21  em_caso_doenca_procura                 100000 non-null  object \n",
            " 22  situacao_profissional                  100000 non-null  object \n",
            " 23  vulnerabilidade_social                 100000 non-null  object \n",
            " 24  data_atualizacao_cadastro              100000 non-null  object \n",
            " 25  familia_beneficiaria_auxilio_brasil    100000 non-null  object \n",
            " 26  crianca_matriculada_creche_pre_escola  100000 non-null  object \n",
            " 27  altura                                 99975 non-null   float64\n",
            " 28  peso                                   99816 non-null   float64\n",
            " 29  pressao_sistolica                      99960 non-null   float64\n",
            " 30  pressao_diastolica                     99983 non-null   float64\n",
            " 31  n_atendimentos_atencao_primaria        100000 non-null  int64  \n",
            " 32  n_atendimentos_hospital                100000 non-null  int64  \n",
            " 33  updated_at                             100000 non-null  object \n",
            " 34  tipo                                   100000 non-null  object \n",
            "dtypes: float64(4), int64(3), object(28)\n",
            "memory usage: 26.7+ MB\n",
            "None\n"
          ]
        }
      ]
    },
    {
      "cell_type": "code",
      "source": [
        "# Exibir tipos de dados\n",
        "print(\"\\n\" + \"=\"*50)\n",
        "print(\"Tipos de Dados das Colunas:\")\n",
        "print(\"=\"*50)\n",
        "print(df.dtypes)"
      ],
      "metadata": {
        "colab": {
          "base_uri": "https://localhost:8080/",
          "height": 0
        },
        "id": "nN2RoZcDSO0A",
        "outputId": "0b689e57-300a-4be6-8929-9958e94382d1"
      },
      "execution_count": 31,
      "outputs": [
        {
          "output_type": "stream",
          "name": "stdout",
          "text": [
            "\n",
            "==================================================\n",
            "Tipos de Dados das Colunas:\n",
            "==================================================\n",
            "id_paciente                               object\n",
            "sexo                                      object\n",
            "obito                                     object\n",
            "bairro                                    object\n",
            "raca_cor                                  object\n",
            "ocupacao                                  object\n",
            "religiao                                  object\n",
            "luz_eletrica                              object\n",
            "data_cadastro                             object\n",
            "escolaridade                              object\n",
            "nacionalidade                             object\n",
            "renda_familiar                            object\n",
            "data_nascimento                           object\n",
            "em_situacao_de_rua                        object\n",
            "frequenta_escola                           int64\n",
            "meios_transporte                          object\n",
            "doencas_condicoes                         object\n",
            "identidade_genero                         object\n",
            "meios_comunicacao                         object\n",
            "orientacao_sexual                         object\n",
            "possui_plano_saude                        object\n",
            "em_caso_doenca_procura                    object\n",
            "situacao_profissional                     object\n",
            "vulnerabilidade_social                    object\n",
            "data_atualizacao_cadastro                 object\n",
            "familia_beneficiaria_auxilio_brasil       object\n",
            "crianca_matriculada_creche_pre_escola     object\n",
            "altura                                   float64\n",
            "peso                                     float64\n",
            "pressao_sistolica                        float64\n",
            "pressao_diastolica                       float64\n",
            "n_atendimentos_atencao_primaria            int64\n",
            "n_atendimentos_hospital                    int64\n",
            "updated_at                                object\n",
            "tipo                                      object\n",
            "dtype: object\n"
          ]
        }
      ]
    },
    {
      "cell_type": "markdown",
      "source": [
        "O DataFrame contém 100.000 linhas de entradas, e o índice vai de 0 a 99.999. Logo, a partir da informação do Non-Null Count, eu consigo ver que em algumas colunas existem valores nulos, pois elas não chegam até 100.000 linhas de entradas.\n",
        "\n",
        "Os campos que contêm dados nulos são:\n",
        "\n",
        "```\n",
        "17  identidade_genero                      99048 non-null   object\n",
        "27  altura                                 99975 non-null   float64\n",
        "28  peso                                   99816 non-null   float64\n",
        "29  pressao_sistolica                      99960 non-null   float64\n",
        "30  pressao_diastolica                     99983 non-null   float64\n",
        "\n",
        "```\n",
        "\n",
        "Outro ponto a ser observado é o Dtype, que descreve o tipo de dado de cada coluna. Algumas colunas categóricas, como a coluna sexo, atualmente são do tipo object, embora tenham um conjunto limitado de valores (apenas male/female). Converter essas colunas para o tipo category ou booleano poderia reduzir significativamente o uso de memória (atualmente em torno de 26.7 MB) e potencialmente aumentaria a performance ao realizar operações como filtragens e agregações nos dados."
      ],
      "metadata": {
        "id": "nLPGYgXwdzGL"
      }
    },
    {
      "cell_type": "code",
      "source": [
        "# Descrição estatística das colunas numéricas\n",
        "print(\"\\n\" + \"=\"*50)\n",
        "print(\"Estatísticas Descritivas das Colunas Numéricas:\")\n",
        "print(\"=\"*50)\n",
        "print(df.describe())\n"
      ],
      "metadata": {
        "colab": {
          "base_uri": "https://localhost:8080/",
          "height": 0
        },
        "id": "jHQtPlKOdLed",
        "outputId": "b70e20f7-6b24-424a-a812-9e975ab77f67"
      },
      "execution_count": 32,
      "outputs": [
        {
          "output_type": "stream",
          "name": "stdout",
          "text": [
            "\n",
            "==================================================\n",
            "Estatísticas Descritivas das Colunas Numéricas:\n",
            "==================================================\n",
            "       frequenta_escola        altura          peso  pressao_sistolica  \\\n",
            "count     100000.000000  99975.000000  99816.000000       99960.000000   \n",
            "mean           0.158190    142.693589     63.801629         129.544068   \n",
            "std            0.364921     38.659345     35.594173          21.406429   \n",
            "min            0.000000      0.000000      0.000000           0.000000   \n",
            "25%            0.000000    145.000000     50.700000         120.000000   \n",
            "50%            0.000000    158.000000     67.900000         130.000000   \n",
            "75%            0.000000    165.000000     82.000000         140.000000   \n",
            "max            1.000000    810.000000    998.000000         900.000000   \n",
            "\n",
            "       pressao_diastolica  n_atendimentos_atencao_primaria  \\\n",
            "count        99983.000000                    100000.000000   \n",
            "mean            79.378207                         5.542710   \n",
            "std             21.062140                         5.204464   \n",
            "min              0.000000                         0.000000   \n",
            "25%             70.000000                         0.000000   \n",
            "50%             80.000000                         5.000000   \n",
            "75%             87.000000                         9.000000   \n",
            "max            921.000000                        32.000000   \n",
            "\n",
            "       n_atendimentos_hospital  \n",
            "count            100000.000000  \n",
            "mean                  7.312930  \n",
            "std                   9.801987  \n",
            "min                   0.000000  \n",
            "25%                   0.000000  \n",
            "50%                   2.000000  \n",
            "75%                  13.000000  \n",
            "max                  77.000000  \n"
          ]
        }
      ]
    },
    {
      "cell_type": "markdown",
      "source": [
        "**Problemas identificados:**\n",
        "\n",
        "Na descrição estatística, a coluna `min` indica que vários campos numéricos apresentam valor mínimo igual a 0. Isso significa que existem campos sem informação, possivelmente preenchidos ou configurados erroneamente como zero. O valor mínimo para as colunas **altura**, **peso**, **pressao_sistolica** e **pressao_diastolica** está fora do esperado, pois apresentam o valor 0, sendo impossível que isso seja um dado verídico nesses casos.\n",
        "\n",
        "Sobre os valores máximos, o maior valor de entrada para altura de um paciente é 810 cm, equivalente a 8,1 metros de altura, e o peso máximo é de 998 kg, ambos humanamente impossíveis para um ser humano.\n",
        "\n",
        "Referências para tais afirmações:\n",
        "\n",
        "- A pessoa mais alta já registrada na história tinha 2,72 metros ([link da referência](https://pt.wikipedia.org/wiki/Sultan_K%C3%B6sen#:~:text=Sultan%20K%C3%B6sen%20(Mardin%2C%2010%20de,(8%20ft%203%20in))).\n",
        "- A pessoa mais pesada registrada oficialmente chegou a 635 kg ([link da referência](https://pt.wikipedia.org/wiki/Jon_Brower_Minnoch#:~:text=Jon%20Brower%20Minnoch%20(29%20de,libras%20(ou%20635%20quilos).)).\n",
        "\n",
        "Sobre as colunas de **pressao_sistolica** e **pressao_diastolica**, o valor mínimo de zero também não é possível, pois zero não é uma medida fisiologicamente realista. Da mesma forma, os valores máximos encontrados, como 921 mmHg para pressão diastólica e 900 mmHg para pressão sistólica, são sao extremamente elevados.\n",
        "\n",
        "De acordo com a classificação oficial da Secretaria Municipal de Saúde do Rio de Janeiro (V Diretriz Brasileira de Hipertensão Arterial, 2006):\n",
        "\n",
        "- **Pressão Sistólica (PAS)**:\n",
        "  - Valores iguais ou superiores a 180 mmHg indicam hipertensão grave (estágio 3) e requerem atenção médica imediata.\n",
        "  - Valores abaixo de 90 mmHg podem ser considerados baixos e, se acompanhados de sintomas como tontura ou desmaios, indicam hipotensão.\n",
        "\n",
        "- **Pressão Diastólica (PAD)**:\n",
        "  - Valores iguais ou superiores a 110 mmHg também caracterizam hipertensão grave e demandam intervenção médica urgente.\n",
        "  - Valores abaixo de 60 mmHg podem indicar hipotensão, especialmente se houver sintomas associados.\n",
        "\n",
        "Ou seja, valores muito abaixo ou muito acima disso seriam improváveis e provavelmente estariam ligados a algum equívoco na entrada de dados ou na medição.\n",
        "\n",
        "\n",
        "Referência utilizada:\n",
        "\n",
        "- [Classificação da Pressão Arterial - Secretaria Municipal de Saúde e Defesa Civil](https://www.rio.rj.gov.br/dlstatic/10112/123738/DLFE-1673.pdf/1.0).\n",
        "\n",
        "\n",
        "Por fim, em relação ao campo **frequenta_escola**, aparentemente não há inconsistências com os dados booleanos representados por 0 e 1 (provavelmente indicando que 0 significa que o paciente não frequenta a escola e 1 indica que frequenta). Porém, no próximo tópico, decidi realizar uma correlação com os dados de escolaridade e idade para verificar a veracidade dessas informaçoes."
      ],
      "metadata": {
        "id": "DLllTIMJ-aBb"
      }
    },
    {
      "cell_type": "markdown",
      "source": [
        "## **Análise Exploratória dos dados**"
      ],
      "metadata": {
        "id": "CQCdAilyI-eh"
      }
    },
    {
      "cell_type": "markdown",
      "source": [
        "### **Análise de formatação de datas**"
      ],
      "metadata": {
        "id": "rpoaP9SaYdrF"
      }
    },
    {
      "cell_type": "markdown",
      "source": [
        "Inicialmente, verifiquei os tipos de cada coluna contendo datas com o seguinte código:"
      ],
      "metadata": {
        "id": "me6wK36adygo"
      }
    },
    {
      "cell_type": "code",
      "source": [
        "colunas_datas = ['data_nascimento', 'updated_at', 'data_cadastro', 'data_atualizacao_cadastro']\n",
        "\n",
        "print(\"Tipos atuais das colunas de datas:\")\n",
        "for coluna in colunas_datas:\n",
        "    print(f\"{coluna}: {df[coluna].dtype}\")\n"
      ],
      "metadata": {
        "colab": {
          "base_uri": "https://localhost:8080/",
          "height": 0
        },
        "id": "U-8UpVrtcabX",
        "outputId": "74360f6c-7ec8-4432-ef72-923606e4d1b0"
      },
      "execution_count": 33,
      "outputs": [
        {
          "output_type": "stream",
          "name": "stdout",
          "text": [
            "Tipos atuais das colunas de datas:\n",
            "data_nascimento: object\n",
            "updated_at: object\n",
            "data_cadastro: object\n",
            "data_atualizacao_cadastro: object\n"
          ]
        }
      ]
    },
    {
      "cell_type": "markdown",
      "source": [
        "Após isso, tentei converter as datas utilizando a função pd.to_datetime(df[coluna], errors='coerce') para identificar possíveis inconsistências. Porém, notei uma limitação importante nessa abordagem: valores que não seguem exatamente o mesmo formato de data identificado inicialmente são automaticamente considerados inválidos e convertidos para NaT.\n",
        "\n",
        "Consequentemente, datas aparentemente corretas podem ser classificadas incorretamente como inválidas devido a pequenas variações, como a presença ou ausência de milissegundos.\n",
        "\n",
        "Para investigar melhor essas variações, analisei diretamente alguns registros específicos, comparando os formatos encontrados com o seguinte código:"
      ],
      "metadata": {
        "id": "EQbJxu3jv-p3"
      }
    },
    {
      "cell_type": "code",
      "source": [
        "# Exemplo específico de paciente para verificar os formatos das datas\n",
        "exemplo_paciente = df.iloc[10]\n",
        "\n",
        "# Exibindo valores e formatos de datas do paciente\n",
        "for coluna in ['data_nascimento', 'updated_at', 'data_cadastro', 'data_atualizacao_cadastro']:\n",
        "    valor = exemplo_paciente[coluna]\n",
        "    tipo = type(valor)\n",
        "    comprimento = len(str(valor))\n",
        "\n",
        "    print(f\"{coluna}: '{valor}' - tipo: {tipo}, comprimento: {comprimento}\")\n"
      ],
      "metadata": {
        "colab": {
          "base_uri": "https://localhost:8080/",
          "height": 0
        },
        "id": "PsDrh-i1y5li",
        "outputId": "ca39ed61-0937-47e2-fc7d-6d5408922c35"
      },
      "execution_count": 34,
      "outputs": [
        {
          "output_type": "stream",
          "name": "stdout",
          "text": [
            "data_nascimento: '1997-02-06' - tipo: <class 'str'>, comprimento: 10\n",
            "updated_at: '2022-07-01 00:16:02.133' - tipo: <class 'str'>, comprimento: 23\n",
            "data_cadastro: '2022-11-23 09:51:47.917' - tipo: <class 'str'>, comprimento: 23\n",
            "data_atualizacao_cadastro: '2021-03-26 21:55:16' - tipo: <class 'str'>, comprimento: 19\n"
          ]
        }
      ]
    },
    {
      "cell_type": "code",
      "source": [
        "# Exemplo específico de paciente para verificar os formatos das datas\n",
        "exemplo_paciente = df.iloc[1]\n",
        "\n",
        "# Exibindo valores e formatos de datas do paciente\n",
        "for coluna in ['data_nascimento', 'updated_at', 'data_cadastro', 'data_atualizacao_cadastro']:\n",
        "    valor = exemplo_paciente[coluna]\n",
        "    tipo = type(valor)\n",
        "    comprimento = len(str(valor))\n",
        "\n",
        "    print(f\"{coluna}: '{valor}' - tipo: {tipo}, comprimento: {comprimento}\")\n"
      ],
      "metadata": {
        "colab": {
          "base_uri": "https://localhost:8080/",
          "height": 0
        },
        "id": "cQpjTg4M3TW3",
        "outputId": "16d127a5-33a7-4699-b32f-428e876490bc"
      },
      "execution_count": 35,
      "outputs": [
        {
          "output_type": "stream",
          "name": "stdout",
          "text": [
            "data_nascimento: '1952-12-20' - tipo: <class 'str'>, comprimento: 10\n",
            "updated_at: '2020-06-25 00:00:00.000' - tipo: <class 'str'>, comprimento: 23\n",
            "data_cadastro: '2021-01-07 00:00:00.000' - tipo: <class 'str'>, comprimento: 23\n",
            "data_atualizacao_cadastro: '2022-07-10 17:48:09.600' - tipo: <class 'str'>, comprimento: 23\n"
          ]
        }
      ]
    },
    {
      "cell_type": "markdown",
      "source": [
        "Com esses exemplos, foi possível observar que algumas datas possuem milissegundos e outras não. A consequência disso é que, ao tentar a conversão automática com o Pandas, ele escolhe o primeiro formato encontrado como padrão (por exemplo as entradas com milissegundos) e espera que todas as entradas seguintes estejam no mesmo formato. Caso encontre datas sem milissegundos posteriormente, elas são consideradas incorretas e transformadas em NaT.\n",
        "\n",
        "Para verificar explicitamente essa variação nos formatos das datas, utilizei o seguinte código para destacar os padrões distintos encontrados:"
      ],
      "metadata": {
        "id": "SEnZd2VV8KxT"
      }
    },
    {
      "cell_type": "code",
      "source": [
        "import pandas as pd\n",
        "\n",
        "colunas_datas = ['data_nascimento', 'updated_at', 'data_cadastro', 'data_atualizacao_cadastro']\n",
        "\n",
        "# Função para substituir dígitos por placeholders e revelar o formato\n",
        "def revelar_formato(data_str):\n",
        "    import re\n",
        "    formato = re.sub(r'\\d', 'D', data_str)  # substitui dígitos por 'D'\n",
        "    return formato\n",
        "\n",
        "for coluna in colunas_datas:\n",
        "    print(f\"\\nFormatos encontrados na coluna '{coluna}':\")\n",
        "\n",
        "    # Remover valores nulos para evitar erros\n",
        "    valores_nao_nulos = df[coluna].dropna().astype(str)\n",
        "\n",
        "    # Aplicar função para revelar formatos diferentes\n",
        "    formatos_unicos = valores_nao_nulos.apply(revelar_formato).value_counts()\n",
        "\n",
        "    print(formatos_unicos)"
      ],
      "metadata": {
        "colab": {
          "base_uri": "https://localhost:8080/",
          "height": 0
        },
        "id": "ZBxgRLWM5Lji",
        "outputId": "fcc95769-d138-4e2a-8aac-13b7bb646860"
      },
      "execution_count": 36,
      "outputs": [
        {
          "output_type": "stream",
          "name": "stdout",
          "text": [
            "\n",
            "Formatos encontrados na coluna 'data_nascimento':\n",
            "data_nascimento\n",
            "DDDD-DD-DD    100000\n",
            "Name: count, dtype: int64\n",
            "\n",
            "Formatos encontrados na coluna 'updated_at':\n",
            "updated_at\n",
            "DDDD-DD-DD DD:DD:DD.DDD    92145\n",
            "DDDD-DD-DD DD:DD:DD         7855\n",
            "Name: count, dtype: int64\n",
            "\n",
            "Formatos encontrados na coluna 'data_cadastro':\n",
            "data_cadastro\n",
            "DDDD-DD-DD DD:DD:DD.DDD    63446\n",
            "DDDD-DD-DD DD:DD:DD        36554\n",
            "Name: count, dtype: int64\n",
            "\n",
            "Formatos encontrados na coluna 'data_atualizacao_cadastro':\n",
            "data_atualizacao_cadastro\n",
            "DDDD-DD-DD DD:DD:DD.DDD    71310\n",
            "DDDD-DD-DD DD:DD:DD        28690\n",
            "Name: count, dtype: int64\n"
          ]
        }
      ]
    },
    {
      "cell_type": "markdown",
      "source": [
        "Essa análise mostra que há inconsistências no formato das datas capturadas, especialmente na presença ou ausência de milissegundos. Essas inconsistências dificultam uma conversão automática padrão pelo Pandas, pois este interpreta o primeiro formato encontrado como padrão absoluto, classificando quaisquer variações posteriores como inválidas.\n",
        "\n",
        "Como meu objetivo nesta etapa é apenas identificar esses formatos diferentes ou inconsistentes sem realizar conversões definitivas (uma vez que a padronização será feita posteriormente no DBT), essa abordagem foi suficiente para demonstrar claramente a diversidade de formatos existentes."
      ],
      "metadata": {
        "id": "YOjpWkXa3eLs"
      }
    },
    {
      "cell_type": "markdown",
      "source": [
        "### **Verificacao da datas com hora zerada**\n",
        "\n"
      ],
      "metadata": {
        "id": "B94HlZIgZDTW"
      }
    },
    {
      "cell_type": "code",
      "source": [
        "colunas_datas = ['updated_at', 'data_cadastro', 'data_atualizacao_cadastro']\n",
        "\n",
        "for coluna in colunas_datas:\n",
        "    datas_zeradas = df[df[coluna].astype(str).str.contains('00:00:00(?:\\.000)?', regex=True)]\n",
        "    qtd_datas_zeradas = len(datas_zeradas)\n",
        "\n",
        "    print(f\"\\nColuna '{coluna}' possui {qtd_datas_zeradas} entradas com horário zerado.\")\n",
        "    if qtd_datas_zeradas > 0:\n",
        "        print(\"Exemplos encontrados:\")\n",
        "        print(datas_zeradas[['id_paciente', coluna]].head(5))"
      ],
      "metadata": {
        "colab": {
          "base_uri": "https://localhost:8080/",
          "height": 0
        },
        "id": "ZYZI3ZJJ-Usl",
        "outputId": "9d9264a1-8320-4a58-9977-8a2cf9d63072"
      },
      "execution_count": 37,
      "outputs": [
        {
          "output_type": "stream",
          "name": "stdout",
          "text": [
            "\n",
            "Coluna 'updated_at' possui 34633 entradas com horário zerado.\n",
            "Exemplos encontrados:\n",
            "                            id_paciente               updated_at\n",
            "0  cd6daa6e-038d-4952-af29-579e62e07f97  2021-06-01 00:00:00.000\n",
            "1  ad6cecb2-3a44-49ab-b2f3-6f9ffc2e2ec7  2020-06-25 00:00:00.000\n",
            "2  54e834e7-e722-4daa-8909-cf917a1247e6  2020-03-02 00:00:00.000\n",
            "4  d5262a3c-e5d3-4195-a46b-0acd2533e1d6  2020-11-11 00:00:00.000\n",
            "6  845241a6-be84-4c77-ae3a-751da1f9d434  1900-01-01 00:00:00.000\n",
            "\n",
            "Coluna 'data_cadastro' possui 29506 entradas com horário zerado.\n",
            "Exemplos encontrados:\n",
            "                            id_paciente            data_cadastro\n",
            "0  cd6daa6e-038d-4952-af29-579e62e07f97  2021-06-24 00:00:00.000\n",
            "1  ad6cecb2-3a44-49ab-b2f3-6f9ffc2e2ec7  2021-01-07 00:00:00.000\n",
            "2  54e834e7-e722-4daa-8909-cf917a1247e6  2021-02-18 00:00:00.000\n",
            "5  4cc6a63c-61d3-49c0-807c-089c3d960956  2021-05-13 00:00:00.000\n",
            "8  ab4595b2-c3de-4993-91f5-dfabd8202e12  2021-10-06 00:00:00.000\n",
            "\n",
            "Coluna 'data_atualizacao_cadastro' possui 14608 entradas com horário zerado.\n",
            "Exemplos encontrados:\n",
            "                             id_paciente data_atualizacao_cadastro\n",
            "15  6b987e87-8bf7-4342-8399-58edbf5e3ef2   2022-03-08 00:00:00.000\n",
            "21  d4e345f2-a1cc-4e56-82b8-577be0d872dd   2022-04-18 00:00:00.000\n",
            "22  122c778f-3f7f-426b-9f34-38cfc48d55d4   2021-03-10 00:00:00.000\n",
            "42  93781941-0408-4016-ac14-ffec1ab9b2b4   2019-04-05 00:00:00.000\n",
            "50  eac48a0c-3976-438d-8be6-5926a7836d4e   2021-06-01 00:00:00.000\n"
          ]
        }
      ]
    },
    {
      "cell_type": "markdown",
      "source": [
        "Observei que alguns registros possuem horários zerados (`'00:00:00'`). Acredito que o sistema ou o dispositivo responsável pela captura dos dados registrou apenas a data, sem salvar ou capturar o horário exato do evento. Em casos como esse, o banco de dados acaba preenchendo automaticamente o horário com zeros, mantendo o formato. É comum em sistemas mais antigos onde a coleta dos dados ocorre em lotes ou sem precisão exata de horário, e isso gera registros com horários zerados."
      ],
      "metadata": {
        "id": "SuNUVcmS_3B1"
      }
    },
    {
      "cell_type": "markdown",
      "source": [
        "### **Análise dos valores nulos**"
      ],
      "metadata": {
        "id": "YIR40zxxRUnN"
      }
    },
    {
      "cell_type": "markdown",
      "source": [
        "Já sabia que existiam valores nulos pelas informacoes iniciais da planilha, mas com esta análise é possível quantificar melhor quais são as colunas afetadas e a quantidade exata de dados ausentes em cada uma delas."
      ],
      "metadata": {
        "id": "I8LMPCrAAAxy"
      }
    },
    {
      "cell_type": "code",
      "source": [
        "# Verificando colunas com valores ausentes (NaN ou vazios)\n",
        "colunas_ausentes = df.columns[df.isnull().any()]\n",
        "print(\"Colunas com valores ausentes e quantidades:\")\n",
        "print(df[colunas_ausentes].isnull().sum())\n",
        "\n",
        "# Gráfico em barras das colunas com dados ausentes\n",
        "import matplotlib.pyplot as plt\n",
        "\n",
        "# Calculando valores ausentes por coluna\n",
        "dados_ausentes = df.isnull().sum()\n",
        "dados_ausentes = dados_ausentes[dados_ausentes > 0]\n",
        "\n",
        "# Gráfico\n",
        "plt.figure(figsize=(12, 6))\n",
        "dados_ausentes.sort_values().plot(kind='barh')\n",
        "plt.title('Colunas com Dados Ausentes')\n",
        "plt.xlabel('Quantidade de Valores Ausentes')\n",
        "plt.ylabel('Colunas')\n",
        "plt.grid(axis='x')\n",
        "plt.show()"
      ],
      "metadata": {
        "colab": {
          "base_uri": "https://localhost:8080/",
          "height": 685
        },
        "id": "uvdc_RoGVzhI",
        "outputId": "179e69ed-1b4b-4123-96ef-af8811871247"
      },
      "execution_count": 38,
      "outputs": [
        {
          "output_type": "stream",
          "name": "stdout",
          "text": [
            "Colunas com valores ausentes e quantidades:\n",
            "identidade_genero     952\n",
            "altura                 25\n",
            "peso                  184\n",
            "pressao_sistolica      40\n",
            "pressao_diastolica     17\n",
            "dtype: int64\n"
          ]
        },
        {
          "output_type": "display_data",
          "data": {
            "text/plain": [
              "<Figure size 1200x600 with 1 Axes>"
            ],
            "image/png": "[encoded data removed]"
          },
          "metadata": {}
        }
      ]
    },
    {
      "cell_type": "markdown",
      "source": [
        "Esses valores têm uma grande recorrência de campos nulos porque provavelmente não são campos obrigatórios no preenchimento das fichas e atendimentos médicos. Por exemplo, no campo de identidade de gênero, muitos pacientes podem escolher por não responder. E as métrica de peso, altura e pressão também são usadas em contextos médicos específicos e não são obrigatórias para todos os casos."
      ],
      "metadata": {
        "id": "Gm3AOpgqAXbT"
      }
    },
    {
      "cell_type": "markdown",
      "source": [
        "### **Análise tipo de dado incosistente para inteiros**"
      ],
      "metadata": {
        "id": "1PU_Vl-LYDy8"
      }
    },
    {
      "cell_type": "markdown",
      "source": [
        "Durante a exploração inicial dos dados, percebi que seria importante analisar a consistência dos tipos dos dados nas colunas que deveriam ser exclusivamente numéricas, como peso, altura e pressão arterial. Decidi fazer essa verificação porque, muitas vezes, campos declarados como numéricos acabam recebendo valores não numéricos devido a erros no preenchimento das fichas ou inserção incorreta dos dados no sistema, por exemplo, textos indicando valores não informados.\n",
        "\n",
        "Dessa forma, selecionei apenas as colunas do conjunto de dados identificadas pelo tipo numérico (inteiro ou decimal). Em seguida, verifiquei se existiam valores que não correspondiam ao tipo esperado, ou seja, valores que não fossem números inteiros ou decimais e que também não fossem nulos."
      ],
      "metadata": {
        "id": "kctajOTXDv_z"
      }
    },
    {
      "cell_type": "code",
      "source": [
        "# Identificando inconsistências em colunas numéricas\n",
        "colunas_numericas = df.select_dtypes(include=['float64', 'int64']).columns\n",
        "\n",
        "# Função para verificar valores não numéricos em colunas numéricas\n",
        "inconsistencias = {}\n",
        "for coluna in colunas_numericas:\n",
        "    inconsistentes = df[~df[coluna].apply(lambda x: isinstance(x, (int, float))) & df[coluna].notnull()]\n",
        "    if not inconsistentes.empty:\n",
        "        inconsistencias[coluna] = inconsistentes\n",
        "\n",
        "\n",
        "if inconsistencias:\n",
        "    for coluna, casos in inconsistencias.items():\n",
        "        print(f\"Inconsistências encontradas na coluna '{coluna}':\")\n",
        "        print(casos[[coluna]].head())\n",
        "        print(f\"Total de inconsistências: {len(casos)}\\n\")\n",
        "else:\n",
        "    print(\"Não foram encontradas inconsistências nas colunas numéricas.\")"
      ],
      "metadata": {
        "colab": {
          "base_uri": "https://localhost:8080/",
          "height": 0
        },
        "id": "2uixQ_rGYI94",
        "outputId": "22fea82e-ecff-4d7e-b7c3-8543f64b8f9a"
      },
      "execution_count": 39,
      "outputs": [
        {
          "output_type": "stream",
          "name": "stdout",
          "text": [
            "Não foram encontradas inconsistências nas colunas numéricas.\n"
          ]
        }
      ]
    },
    {
      "cell_type": "markdown",
      "source": [
        "### **Análise dos valores numéricos negativos**"
      ],
      "metadata": {
        "id": "UmUQNNHnRpp-"
      }
    },
    {
      "cell_type": "markdown",
      "source": [
        "Outro aspecto importante é verificar a presença de valores numéricos negativos em campos que, por definição, deveriam conter apenas valores positivos ou zero. Valores negativos nesses campos podem indicar erros de preenchimento ou problemas durante a importação dos dados, o que pode comprometer a qualidade e a confiabilidade das análises subsequentes.\n",
        "\n",
        "Para realizar essa verificação, selecionei todas as colunas numéricas e verifiquei individualmente a presença de valores negativos."
      ],
      "metadata": {
        "id": "MMNTupg3wmlR"
      }
    },
    {
      "cell_type": "code",
      "source": [
        "# Seleciona colunas numéricas do DataFrame\n",
        "colunas_numericas = df.select_dtypes(include=['int64', 'float64']).columns\n",
        "\n",
        "# Verifica valores negativos nas colunas numéricas\n",
        "for coluna in colunas_numericas:\n",
        "    negativos = df[df[coluna] < 0]\n",
        "    qtd_negativos = len(negativos)\n",
        "\n",
        "    if qtd_negativos > 0:\n",
        "        print(f\"\\nColuna '{coluna}' possui {qtd_negativos} valores negativos.\")\n",
        "        print(negativos[['id_paciente', coluna]].head(5))\n",
        "    else:\n",
        "        print(f\"\\nColuna '{coluna}' não possui valores negativos.\")"
      ],
      "metadata": {
        "colab": {
          "base_uri": "https://localhost:8080/",
          "height": 0
        },
        "id": "ukZO2LoQ0EBE",
        "outputId": "18e1506c-7f28-47a5-cdf3-8b18e2e851a1"
      },
      "execution_count": 40,
      "outputs": [
        {
          "output_type": "stream",
          "name": "stdout",
          "text": [
            "\n",
            "Coluna 'frequenta_escola' não possui valores negativos.\n",
            "\n",
            "Coluna 'altura' não possui valores negativos.\n",
            "\n",
            "Coluna 'peso' não possui valores negativos.\n",
            "\n",
            "Coluna 'pressao_sistolica' não possui valores negativos.\n",
            "\n",
            "Coluna 'pressao_diastolica' não possui valores negativos.\n",
            "\n",
            "Coluna 'n_atendimentos_atencao_primaria' não possui valores negativos.\n",
            "\n",
            "Coluna 'n_atendimentos_hospital' não possui valores negativos.\n"
          ]
        }
      ]
    },
    {
      "cell_type": "markdown",
      "source": [
        "### **Análise de duplicatas**"
      ],
      "metadata": {
        "id": "KS2QTUjtRpGl"
      }
    },
    {
      "cell_type": "markdown",
      "source": [
        "Aqui nessa parte o objetivo era verificar a existência de registros duplicados, pois em alguns casos podem ocorrer entradas repetidas que comprometem a confiabilidade dos resultados finais, especialmente em contextos médicos, onde a duplicidade de informações pode levar a interpretações erradas ou análises estatísticas enviesadas."
      ],
      "metadata": {
        "id": "QD3KWC1QErRS"
      }
    },
    {
      "cell_type": "code",
      "source": [
        "print(\"\\n\" + \"=\"*50)\n",
        "print(\"Número de Duplicatas:\")\n",
        "print(\"=\"*50)\n",
        "print(df.duplicated().sum())"
      ],
      "metadata": {
        "colab": {
          "base_uri": "https://localhost:8080/",
          "height": 0
        },
        "id": "-9F1QgpWLFqQ",
        "outputId": "01e3d84c-42d5-4a45-b2b3-cbec35de9365"
      },
      "execution_count": 41,
      "outputs": [
        {
          "output_type": "stream",
          "name": "stdout",
          "text": [
            "\n",
            "==================================================\n",
            "Número de Duplicatas:\n",
            "==================================================\n",
            "0\n"
          ]
        }
      ]
    },
    {
      "cell_type": "markdown",
      "source": [
        "### **Verificação da consistência da Pressão Arterial por Faixa Etária**\n",
        "\n",
        "Devido às diferenças fisiológicas naturais, decidi analisar os valores de pressão arterial dividindo os pacientes em grupos etários específicos:\n",
        "\n",
        "| Faixa Etária                        | Limite Sistólica (mmHg) | Limite Diastólica (mmHg) |\n",
        "|-------------------------------------|-------------------------|--------------------------|\n",
        "| Crianças (0-12 anos)                | 80 – 120                | 50 – 80                  |\n",
        "| Adolescentes e adultos (13-60 anos) | 90 – 180                | 60 – 120                 |\n",
        "| Idosos (acima de 60 anos)           | 90 – 200                | 60 – 120                 |\n",
        "\n",
        "Para uma análise de casos absurdos, com valores contendo erros evidentes de registro, utilizo os seguintes intervalos extremos, considerando uma boa margem para não descartar casos reais, ainda que raros ou patológicos:\n",
        "\n",
        "\n",
        "| Faixa Etária                        | Sistólica (mmHg) - Valores absurdos | Diastólica (mmHg) - Valores absurdos |\n",
        "|-------------------------------------|-------------------------------------|--------------------------------------|\n",
        "| Crianças (0-12 anos)                | < 50 ou > 180                       | < 30 ou > 120                        |\n",
        "| Adolescentes e adultos (13-60 anos) | < 50 ou > 280                       | < 30 ou > 160                        |\n",
        "| Idosos (acima de 60 anos)           | < 50 ou > 280                       | < 30 ou > 160                        |"
      ],
      "metadata": {
        "id": "GuvvTphdCIvb"
      }
    },
    {
      "cell_type": "code",
      "source": [
        "# Converter as colunas para formato datetime\n",
        "df['data_nascimento'] = pd.to_datetime(df['data_nascimento'], errors='coerce')\n",
        "df['updated_at'] = pd.to_datetime(df['updated_at'], errors='coerce')\n",
        "\n",
        "# Remover registros com datas faltantes antes de calcular a idade\n",
        "df_validas = df.dropna(subset=['data_nascimento', 'updated_at']).copy()\n",
        "\n",
        "# Calcular idade a partir da data de nascimento\n",
        "df_validas['idade'] = ((df_validas['updated_at'] - df_validas['data_nascimento']).dt.days / 365.25).astype(int)\n",
        "\n",
        "def faixa_etaria(idade):\n",
        "    if idade <= 12:\n",
        "        return 'Criança'\n",
        "    elif idade <= 60:\n",
        "        return 'Adulto'\n",
        "    else:\n",
        "        return 'Idoso'\n",
        "\n",
        "df_validas['faixa_etaria'] = df_validas['idade'].apply(faixa_etaria)\n",
        "\n",
        "# Filtro com base nos intervalos absurdos por faixa etária\n",
        "casos_absurdos_pressao = df_validas[\n",
        "    ((df_validas['faixa_etaria'] == 'Criança') &\n",
        "        ((df_validas['pressao_sistolica'] < 50) | (df_validas['pressao_sistolica'] > 180) |\n",
        "         (df_validas['pressao_diastolica'] < 30) | (df_validas['pressao_diastolica'] > 120))) |\n",
        "\n",
        "    ((df_validas['faixa_etaria'] == 'Adulto') &\n",
        "        ((df_validas['pressao_sistolica'] < 50) | (df_validas['pressao_sistolica'] > 280) |\n",
        "         (df_validas['pressao_diastolica'] < 30) | (df_validas['pressao_diastolica'] > 160))) |\n",
        "\n",
        "    ((df_validas['faixa_etaria'] == 'Idoso') &\n",
        "        ((df_validas['pressao_sistolica'] < 50) | (df_validas['pressao_sistolica'] > 280) |\n",
        "         (df_validas['pressao_diastolica'] < 30) | (df_validas['pressao_diastolica'] > 160)))\n",
        "]\n",
        "\n",
        "\n",
        "print(\"Exemplos de casos absurdos por faixa etária:\")\n",
        "print(casos_absurdos_pressao[['id_paciente', 'idade', 'faixa_etaria', 'pressao_sistolica', 'pressao_diastolica']].head(10))\n",
        "\n",
        "print(f\"\\nTotal de casos absurdos encontrados: {len(casos_absurdos_pressao)}\")"
      ],
      "metadata": {
        "colab": {
          "base_uri": "https://localhost:8080/",
          "height": 0
        },
        "id": "XQrOGVNnB0Iz",
        "outputId": "f6a04db7-8c5a-4e23-a5b8-c24d6ca4d1c7"
      },
      "execution_count": 42,
      "outputs": [
        {
          "output_type": "stream",
          "name": "stdout",
          "text": [
            "Exemplos de casos absurdos por faixa etária:\n",
            "                              id_paciente  idade faixa_etaria  \\\n",
            "89   6a833e9f-cbbd-4b78-96a3-efd61ac1d247     56       Adulto   \n",
            "216  754f3325-410e-4280-a27a-0d17233876ff      0      Criança   \n",
            "245  d71ce4e1-ec8e-48a1-9b89-dc3ab114d840     75        Idoso   \n",
            "332  43c6bdaa-1673-4a6a-8b20-ff7f5bfe39b4     40       Adulto   \n",
            "492  4fd819e8-66e4-4d74-b2b3-d3829b238934      0      Criança   \n",
            "578  2c082355-aa4b-4fa0-8e5a-ed66ca12e713     11      Criança   \n",
            "627  8c6bafab-4100-47a5-be91-7c74316cb67d      0      Criança   \n",
            "779  151e73e1-a0ee-492d-99b2-f9c73628560c     31       Adulto   \n",
            "893  7100a1ed-15cb-43d1-920d-8bb1de0bc142     36       Adulto   \n",
            "978  51488f7e-4039-4845-9681-c5f897b5db64      3      Criança   \n",
            "\n",
            "     pressao_sistolica  pressao_diastolica  \n",
            "89               415.0                90.0  \n",
            "216              220.0                84.0  \n",
            "245              100.0                 7.0  \n",
            "332              130.0                10.0  \n",
            "492              190.0                80.0  \n",
            "578              190.0                80.0  \n",
            "627              198.0                80.0  \n",
            "779              120.0                11.0  \n",
            "893              130.0                10.0  \n",
            "978              190.0                80.0  \n",
            "\n",
            "Total de casos absurdos encontrados: 820\n"
          ]
        }
      ]
    },
    {
      "cell_type": "markdown",
      "source": [
        "Portanto, valores fora desses intervalos indicam erros de medição ou registro e devem ser reportados aos fornecedores."
      ],
      "metadata": {
        "id": "NBUg-wz8CmJb"
      }
    },
    {
      "cell_type": "markdown",
      "source": [
        "### **Investigando casos isolados que apareceram nas estatisticas**\n",
        "\n",
        "Investigando o caso do paciente com o máximo anual de atendimentos hospitalares igual a 77, conforme verifiquei nas informações estatísticas, encontrei outros possíveis erros."
      ],
      "metadata": {
        "id": "v6EX8Gu_hU7q"
      }
    },
    {
      "cell_type": "code",
      "source": [
        "# Verificar paciente com exatamente 77 atendimentos\n",
        "paciente_77 = df[df['n_atendimentos_hospital'] == 77]\n",
        "\n",
        "print(\"Dados completos do paciente com 77 atendimentos hospitalares:\")\n",
        "print(paciente_77)\n"
      ],
      "metadata": {
        "id": "_m-JpqbNd5TK",
        "colab": {
          "base_uri": "https://localhost:8080/",
          "height": 0
        },
        "outputId": "bd9c4c3f-2b33-4c9a-f1db-d42a331a33a6"
      },
      "execution_count": 43,
      "outputs": [
        {
          "output_type": "stream",
          "name": "stdout",
          "text": [
            "Dados completos do paciente com 77 atendimentos hospitalares:\n",
            "                               id_paciente    sexo obito  bairro raca_cor  \\\n",
            "3119  f181a3b2-cc9a-44fa-a549-6662c6cd665f  female     0  Centro    Parda   \n",
            "\n",
            "                    ocupacao      religiao luz_eletrica  \\\n",
            "3119  Administrador de Redes  Sem religião            1   \n",
            "\n",
            "                data_cadastro    escolaridade  ...  \\\n",
            "3119  2019-03-01 00:00:00.000  Médio Completo  ...   \n",
            "\n",
            "     familia_beneficiaria_auxilio_brasil  \\\n",
            "3119                                   0   \n",
            "\n",
            "     crianca_matriculada_creche_pre_escola altura  peso  pressao_sistolica  \\\n",
            "3119                                     0  173.0  9.49              120.0   \n",
            "\n",
            "     pressao_diastolica n_atendimentos_atencao_primaria  \\\n",
            "3119               90.0                              15   \n",
            "\n",
            "     n_atendimentos_hospital              updated_at       tipo  \n",
            "3119                      77 2023-12-14 17:35:46.177  historico  \n",
            "\n",
            "[1 rows x 35 columns]\n"
          ]
        }
      ]
    },
    {
      "cell_type": "markdown",
      "source": [
        "Os dados desse paciente apresentam erros relacionados ao campo **peso**, que está registrado como **9.49 kg**, um valor que não faz sentido para um adulto com altura de **173 cm**. Esse valor é extremamente baixo e inconsistente, indicando claramente um erro de digitação ou na importação dos dados.\n",
        "\n",
        "Acredito ser importante comunicar ao fornecedor sobre esse problema, solicitando que revise seus procedimentos de validação para evitar erros semelhantes no futuro, após termos certeza de que o erro não ocorreu durante a importação dos dados."
      ],
      "metadata": {
        "id": "g5B0xkOvezX6"
      }
    },
    {
      "cell_type": "markdown",
      "source": [
        "### **Verificação da consistência do peso por Faixa Etária**\n",
        "\n",
        "Devido aos erros no peso identificados no paciente com o número máximo de 77 atendimentos hospitalares, decidi analisar também os pesos de todo o dataset, dividindo os pacientes por faixas etárias específicas. Para identificar erros evidentes nos registros, utilizei intervalos extremos amplos, evitando descartar casos raros, mas possíveis:\n",
        "\n",
        "\n",
        "| Faixa Etária                        | Peso corporal (kg) - Valores absurdos |\n",
        "|-------------------------------------|--------------------------------------|\n",
        "| Crianças (0-12 anos)                | < 3 kg ou > 80 kg                     |\n",
        "| Adolescentes e adultos (13-60 anos) | < 30 kg ou > 250 kg                   |\n",
        "| Idosos (acima de 60 anos)           | < 30 kg ou > 200 kg                   |\n"
      ],
      "metadata": {
        "id": "VFw2euvmI7AP"
      }
    },
    {
      "cell_type": "code",
      "source": [
        "# Filtro com base nos intervalos absurdos por faixa etária\n",
        "casos_absurdos_peso = df_validas[\n",
        "    ((df_validas['faixa_etaria'] == 'Criança') &\n",
        "        ((df_validas['peso'] < 3) | (df_validas['peso'] > 80))) |\n",
        "\n",
        "    ((df_validas['faixa_etaria'] == 'Adulto') &\n",
        "        ((df_validas['peso'] < 30) | (df_validas['peso'] > 250))) |\n",
        "\n",
        "    ((df_validas['faixa_etaria'] == 'Idoso') &\n",
        "        ((df_validas['peso'] < 30) | (df_validas['peso'] > 200)))\n",
        "]\n",
        "\n",
        "\n",
        "print(\"Exemplos de casos absurdos de peso por faixa etária:\")\n",
        "print(casos_absurdos_peso[['id_paciente', 'idade', 'faixa_etaria', 'peso']].head(10))\n",
        "print(f\"\\nTotal de casos absurdos de peso encontrados: {len(casos_absurdos_peso)}\")"
      ],
      "metadata": {
        "colab": {
          "base_uri": "https://localhost:8080/",
          "height": 0
        },
        "id": "kKrJFTamJK20",
        "outputId": "1706f448-a483-4dd5-864f-6324b9d046f3"
      },
      "execution_count": 44,
      "outputs": [
        {
          "output_type": "stream",
          "name": "stdout",
          "text": [
            "Exemplos de casos absurdos de peso por faixa etária:\n",
            "                             id_paciente  idade faixa_etaria   peso\n",
            "4   d5262a3c-e5d3-4195-a46b-0acd2533e1d6     49       Adulto   8.50\n",
            "17  42ed411c-5f8b-421b-8ac9-9311f2e6ec31     70        Idoso  15.00\n",
            "18  ee7fa9aa-aec6-47f5-9270-e2a596a1245c     29       Adulto   3.59\n",
            "19  eac383b4-b78b-4e0e-bf08-2a61d4b2f8cd     19       Adulto  19.20\n",
            "20  6d9738d8-e913-4257-873d-c8b68d5d6ef8     40       Adulto  23.00\n",
            "22  122c778f-3f7f-426b-9f34-38cfc48d55d4      6      Criança  87.70\n",
            "23  4d8653e9-c146-4931-853b-952603a43b4d     60       Adulto  15.00\n",
            "31  516d1ce6-c059-43d2-90b6-ea9f83db4d14     65        Idoso   8.54\n",
            "36  70847afc-3dd2-4097-bd56-3bbcc927f9f2     40       Adulto  16.35\n",
            "39  e0e3a7cb-e107-4543-9f2c-89265ee7e5fa      7      Criança  97.90\n",
            "\n",
            "Total de casos absurdos de peso encontrados: 18186\n"
          ]
        }
      ]
    },
    {
      "cell_type": "markdown",
      "source": [
        "Indo mais a fundo, trago um exemplo específico: no caso do paciente abaixo, trata-se claramente de um adulto, já que possui escolaridade \"Médio Completo\", profissão, utiliza meios de transporte comuns, porém seu peso foi cadastrado como 8.5 kg. Suponho que tenha ocorrido um erro de digitação e que o peso correto talvez seja 85 kg (avalio em kg porque é a metrica comum mais utilizada):"
      ],
      "metadata": {
        "id": "_d0lXuDiLU5m"
      }
    },
    {
      "cell_type": "code",
      "source": [
        "id_procurado = 'd5262a3c-e5d3-4195-a46b-0acd2533e1d6'\n",
        "\n",
        "dados_paciente = df[df['id_paciente'] == id_procurado]\n",
        "print(dados_paciente.T)"
      ],
      "metadata": {
        "colab": {
          "base_uri": "https://localhost:8080/",
          "height": 0
        },
        "id": "32iCoPbZK_rk",
        "outputId": "f2d83707-0a9c-41fa-9b41-c9cdcdd07190"
      },
      "execution_count": 45,
      "outputs": [
        {
          "output_type": "stream",
          "name": "stdout",
          "text": [
            "                                                                              4\n",
            "id_paciente                                d5262a3c-e5d3-4195-a46b-0acd2533e1d6\n",
            "sexo                                                                       male\n",
            "obito                                                                         0\n",
            "bairro                                                               Santíssimo\n",
            "raca_cor                                                                 Branca\n",
            "ocupacao                                                    Técnico Eletricista\n",
            "religiao                                                                  Outra\n",
            "luz_eletrica                                                               True\n",
            "data_cadastro                                               2022-12-13 18:30:45\n",
            "escolaridade                                                     Médio Completo\n",
            "nacionalidade                                                        Brasileira\n",
            "renda_familiar                                                 1 Salário Mínimo\n",
            "data_nascimento                                             1971-01-26 00:00:00\n",
            "em_situacao_de_rua                                                            0\n",
            "frequenta_escola                                                              1\n",
            "meios_transporte                                                  Metrô, Ônibus\n",
            "doencas_condicoes                                                            []\n",
            "identidade_genero                                                           Não\n",
            "meios_comunicacao                      [\"Televis\\u00e3o\", \"Internet\", \"Jornal\"]\n",
            "orientacao_sexual                                                 Heterossexual\n",
            "possui_plano_saude                                                            0\n",
            "em_caso_doenca_procura                                                       []\n",
            "situacao_profissional                                              Não trabalha\n",
            "vulnerabilidade_social                                                        0\n",
            "data_atualizacao_cadastro                                   2022-07-03 22:52:09\n",
            "familia_beneficiaria_auxilio_brasil                                           0\n",
            "crianca_matriculada_creche_pre_escola                                         0\n",
            "altura                                                                    154.0\n",
            "peso                                                                        8.5\n",
            "pressao_sistolica                                                         180.0\n",
            "pressao_diastolica                                                         80.0\n",
            "n_atendimentos_atencao_primaria                                              25\n",
            "n_atendimentos_hospital                                                       0\n",
            "updated_at                                                  2020-11-11 00:00:00\n",
            "tipo                                                                  historico\n"
          ]
        }
      ]
    },
    {
      "cell_type": "code",
      "source": [
        "import seaborn as sns\n",
        "import matplotlib.pyplot as plt\n",
        "\n",
        "sns.histplot(df['peso'].dropna(), kde=True)\n",
        "plt.title('Distribuição do Peso dos Pacientes')\n",
        "plt.xlabel('Peso (kg)')\n",
        "plt.ylabel('Frequência')\n",
        "plt.show()"
      ],
      "metadata": {
        "colab": {
          "base_uri": "https://localhost:8080/",
          "height": 472
        },
        "id": "OQdn-tY7o1Bg",
        "outputId": "d7d487c2-88fc-426c-9e10-742d5caa54d8"
      },
      "execution_count": 46,
      "outputs": [
        {
          "output_type": "display_data",
          "data": {
            "text/plain": [
              "<Figure size 640x480 with 1 Axes>"
            ],
            "image/png": "[encoded data removed]"
          },
          "metadata": {}
        }
      ]
    },
    {
      "cell_type": "markdown",
      "source": [
        "### **Verificação da consistência: `frequenta_escola`**\n",
        "\n",
        "Para verificar a consistência desses dados, cruzei a variável `frequenta_escola` com a idade dos pacientes calculada a partir da data de nascimento. Considerei inconsistencias os seguintes casos:\n",
        "\n",
        "- Pessoas com menos de 3 anos frequentando escola\n",
        "\n",
        "Foi considerado **inconsistente** qualquer caso onde crianças menores de 3 anos estejam com níveis educacionais impossíveis para sua idade, como:\n",
        "\n",
        "- Fundamental (Completo/Incompleto)\n",
        "- Médio (Completo/Incompleto)\n",
        "- Superior (Completo/Incompleto)\n",
        "\n",
        "Embora exista a possibilidade remota de crianças pequenas (2 a 4 anos) reconhecerem letras e palavras simples, a alfabetização formal e oficial acontece normalmente após os 5 anos. Por esse motivo, os registros de crianças abaixo de 3 anos classificadas como \"Alfabetizado\" podem ser **potenciais inconsistências**.\n",
        "Referencia: https://agenciabrasil.ebc.com.br/educacao/noticia/2019-08/governo-lanca-cartilha-da-politica-nacional-da-alfabetizacao?utm_source=chatgpt.com"
      ],
      "metadata": {
        "id": "GxJxsVhZELSO"
      }
    },
    {
      "cell_type": "code",
      "source": [
        "import pandas as pd\n",
        "\n",
        "# Converte colunas para formato datetime\n",
        "df['data_nascimento'] = pd.to_datetime(df['data_nascimento'], errors='coerce')\n",
        "df['updated_at'] = pd.to_datetime(df['updated_at'], errors='coerce')\n",
        "\n",
        "# Filtra dados com datas válidas antes do cálculo da idade\n",
        "df_validas = df.dropna(subset=['data_nascimento', 'updated_at']).copy()\n",
        "\n",
        "# Remove datas incorretas (registros de antes de 1900)\n",
        "df_validas = df_validas[df_validas['updated_at'].dt.year > 1900]\n",
        "\n",
        "# Calcula a idade corretamente usando apenas datas válidas\n",
        "df_validas['idade'] = (df_validas['updated_at'] - df_validas['data_nascimento']).dt.days // 365\n",
        "\n",
        "escolaridade_incoerente = [\n",
        "    'Médio Completo', 'Médio Incompleto',\n",
        "    'Fundamental Completo', 'Fundamental Incompleto',\n",
        "    'Superior completo', 'Superior incompleto',\n",
        "    'Alfabetizado'\n",
        "]\n",
        "\n",
        "# Verificar crianças menores de 3 anos frequentando escola com escolaridade incoerente\n",
        "inconsistentes_idade_baixa = df_validas[\n",
        "    (df_validas['frequenta_escola'] == 1) &\n",
        "    (df_validas['idade'] < 3) &\n",
        "    (df_validas['idade'] >= 0) &\n",
        "    (df_validas['escolaridade'].isin(escolaridade_incoerente))\n",
        "]\n",
        "\n",
        "print(\"Casos com idade abaixo de 3 anos e escolaridade incoerente:\")\n",
        "print(inconsistentes_idade_baixa[['id_paciente', 'idade', 'frequenta_escola', 'escolaridade']])\n",
        "\n",
        "num_inconsistencias = inconsistentes_idade_baixa.shape[0]\n",
        "print(f\"Total de inconsistências encontradas: {num_inconsistencias}\")"
      ],
      "metadata": {
        "id": "573PLkWnDqVz",
        "colab": {
          "base_uri": "https://localhost:8080/",
          "height": 0
        },
        "outputId": "61cd82f6-8fbe-4109-9a18-458e3d1eb2f7"
      },
      "execution_count": 47,
      "outputs": [
        {
          "output_type": "stream",
          "name": "stdout",
          "text": [
            "Casos com idade abaixo de 3 anos e escolaridade incoerente:\n",
            "                                id_paciente  idade  frequenta_escola  \\\n",
            "687    1e05b347-ea8e-4467-9ccb-22b534f60db7      1                 1   \n",
            "743    278a6b5d-eb5e-41b6-9c7d-08a5550b034a      0                 1   \n",
            "825    c8eb2f56-a6a3-4bf5-b948-77c672a1aea6      1                 1   \n",
            "1003   7aa4b388-70ff-444b-bfc7-103c7fc45890      2                 1   \n",
            "1040   f734f243-6b9d-4a28-a338-746ad839998a      2                 1   \n",
            "...                                     ...    ...               ...   \n",
            "98394  c1599537-d1b6-4aea-a8ce-61e3dce38100      1                 1   \n",
            "98509  d66fae38-6871-42a4-a4be-2f3d3d0d1a05      1                 1   \n",
            "99245  2b1fde24-1161-41b7-908a-6f5ba10f13e6      2                 1   \n",
            "99757  f3226fde-435a-4afc-a36e-8074f3dcc593      0                 1   \n",
            "99950  fb6d3138-b5ec-4daf-8d03-4bb48cb5fc71      1                 1   \n",
            "\n",
            "                 escolaridade  \n",
            "687            Médio Completo  \n",
            "743    Fundamental Incompleto  \n",
            "825    Fundamental Incompleto  \n",
            "1003   Fundamental Incompleto  \n",
            "1040           Médio Completo  \n",
            "...                       ...  \n",
            "98394          Médio Completo  \n",
            "98509            Alfabetizado  \n",
            "99245  Fundamental Incompleto  \n",
            "99757        Médio Incompleto  \n",
            "99950          Médio Completo  \n",
            "\n",
            "[489 rows x 4 columns]\n",
            "Total de inconsistências encontradas: 489\n"
          ]
        },
        {
          "output_type": "stream",
          "name": "stderr",
          "text": [
            "<ipython-input-47-d0bd34f78080>:14: SettingWithCopyWarning: \n",
            "A value is trying to be set on a copy of a slice from a DataFrame.\n",
            "Try using .loc[row_indexer,col_indexer] = value instead\n",
            "\n",
            "See the caveats in the documentation: https://pandas.pydata.org/pandas-docs/stable/user_guide/indexing.html#returning-a-view-versus-a-copy\n",
            "  df_validas['idade'] = (df_validas['updated_at'] - df_validas['data_nascimento']).dt.days // 365\n"
          ]
        }
      ]
    },
    {
      "cell_type": "markdown",
      "source": [
        "A melhor forma de tratar essas inconsistências é substituir esses valores incoerentes por valores ausentes (NaN). Isso indica que são dados incorretos ou inválidos, sem introduzir erros ou dados artificiais."
      ],
      "metadata": {
        "id": "4aIUEZeMKIuH"
      }
    },
    {
      "cell_type": "markdown",
      "source": [
        "A partir desses dados foi possível observar a presenca de dados inteiros integativos"
      ],
      "metadata": {
        "id": "UDEvDnKKf24T"
      }
    },
    {
      "cell_type": "markdown",
      "source": [
        "### **Verificação da consistência: `atendimentos hospitalares`**\n",
        "\n",
        "É interessante observar que existem pacientes com número alto de atendimentos hospitalares, mas sem atendimentos primários."
      ],
      "metadata": {
        "id": "n4udqfE4NqiU"
      }
    },
    {
      "cell_type": "code",
      "source": [
        "# Pacientes com zero atendimentos primários e muitos atendimentos hospitalares\n",
        "casos_sem_primaria = df[\n",
        "    (df['n_atendimentos_atencao_primaria'] == 0) &\n",
        "    (df['n_atendimentos_hospital'] > 30)\n",
        "]\n",
        "\n",
        "print(\"Pacientes com zero atendimentos primários e muitos atendimentos hospitalares:\")\n",
        "print(casos_sem_primaria[['id_paciente', 'n_atendimentos_hospital', 'n_atendimentos_atencao_primaria']])"
      ],
      "metadata": {
        "id": "WpOhpBhYNy2x",
        "colab": {
          "base_uri": "https://localhost:8080/",
          "height": 0
        },
        "outputId": "6e2f2bc8-907b-4a41-b8d3-28eda805a3f2"
      },
      "execution_count": 48,
      "outputs": [
        {
          "output_type": "stream",
          "name": "stdout",
          "text": [
            "Pacientes com zero atendimentos primários e muitos atendimentos hospitalares:\n",
            "                                id_paciente  n_atendimentos_hospital  \\\n",
            "164    601d0511-af71-4b25-98f8-adbf1b7b90b4                       35   \n",
            "294    f454e82f-a5d4-4456-9466-0491246d9703                       31   \n",
            "366    3b4044b7-c909-4372-aeb5-46a81f25684c                       34   \n",
            "634    85dc63c0-15e4-4214-bfc0-f9d99d4bf08c                       36   \n",
            "705    8b5d6629-43c5-4816-9258-80c086716a4b                       36   \n",
            "...                                     ...                      ...   \n",
            "99715  147ac57d-d476-4764-852e-218a692ce2e8                       45   \n",
            "99824  8f826882-b4d5-4bb5-86b0-43dda67f0d0e                       34   \n",
            "99849  8cf4811a-2d70-4332-ac06-c15c28718bb7                       31   \n",
            "99941  37c4a8b8-59b1-4a3f-b814-5b7622066cc4                       33   \n",
            "99948  e79f96f8-7919-4356-a165-df56b21d5b5f                       43   \n",
            "\n",
            "       n_atendimentos_atencao_primaria  \n",
            "164                                  0  \n",
            "294                                  0  \n",
            "366                                  0  \n",
            "634                                  0  \n",
            "705                                  0  \n",
            "...                                ...  \n",
            "99715                                0  \n",
            "99824                                0  \n",
            "99849                                0  \n",
            "99941                                0  \n",
            "99948                                0  \n",
            "\n",
            "[942 rows x 3 columns]\n"
          ]
        }
      ]
    },
    {
      "cell_type": "markdown",
      "source": [
        "Esses casos não indicam diretamente erros técnicos e nem falhas no preenchimento dos dados, mas indicam uma possível falha estrutural ou operacional no sistema de saúde primária, que deveria ser a porta inicial de entrada desses pacientes. A ausência completa de registros de atenção primária combinada ao alto número de atendimentos hospitalares sugere que muitos pacientes estejam acessando diretamente os serviços de emergência sem receber o devido acompanhamento preventivo pela atenção primária.\n",
        "\n",
        "Isso pode indicar dificuldades no acesso ou na eficácia dos serviços básicos de saúde, levando os pacientes a procurar atendimento emergencial apenas quando seu quadro já se agravou.\n",
        "\n",
        "Portanto, essa é uma informação importante que pode ser repassada pode gestores públicos e que pode ajudar na melhoria do fluxo de atendimento e fortalecimento da atenção primária, reduzindo a sobrecarga nos hospitais."
      ],
      "metadata": {
        "id": "alHnPyVpr3VH"
      }
    },
    {
      "cell_type": "markdown",
      "source": [
        "### **Verificação de inconsistências e variações no preenchimento do campo 'ocupação'\"**"
      ],
      "metadata": {
        "id": "kcECbqCxSh-w"
      }
    },
    {
      "cell_type": "code",
      "source": [
        "# Verificando quantas ocupações únicas existem no campo 'ocupacao'\n",
        "num_ocupacoes_unicas = df['ocupacao'].nunique()\n",
        "\n",
        "print(f\"Total de ocupações únicas encontradas: {num_ocupacoes_unicas}\\n\")\n",
        "\n",
        "# Exibindo exemplos dessas ocupações para verificar inconsistências na grafia\n",
        "exemplos_ocupacoes = df['ocupacao'].unique()[:20]\n",
        "print(\"Exemplos de ocupações únicas encontradas:\")\n",
        "print(exemplos_ocupacoes)\n"
      ],
      "metadata": {
        "colab": {
          "base_uri": "https://localhost:8080/",
          "height": 0
        },
        "id": "h2UHmzs7SkY9",
        "outputId": "19b25684-6586-41da-9083-bc77602ef015"
      },
      "execution_count": 49,
      "outputs": [
        {
          "output_type": "stream",
          "name": "stdout",
          "text": [
            "Total de ocupações únicas encontradas: 1355\n",
            "\n",
            "Exemplos de ocupações únicas encontradas:\n",
            "['Não se aplica' 'Assistente Administrativo'\n",
            " 'Representante Comercial Autônomo' 'Técnico Eletricista'\n",
            " 'Porteiro de Edifícios' 'Motorista de Táxi'\n",
            " 'Técnico de Telecomunicações (telefonia)' 'Administrador' 'Manicure'\n",
            " 'Atendente de Lanchonete' 'Vendedor permissionário'\n",
            " 'Recepcionista, Em Geral' 'Empresário de Espetáculo'\n",
            " 'Catador de Material Reciclável' 'Motorista de Carro de Passeio'\n",
            " 'Empregado doméstico arrumador' 'Pintor de Obras' 'Vendedor Ambulante'\n",
            " 'Motorista de ônibus Rodoviário' 'Gerente de Vendas']\n"
          ]
        }
      ]
    },
    {
      "cell_type": "code",
      "source": [
        "ocupacoes_frequentes = df['ocupacao'].value_counts().head(20)\n",
        "print(ocupacoes_frequentes)\n"
      ],
      "metadata": {
        "colab": {
          "base_uri": "https://localhost:8080/",
          "height": 0
        },
        "id": "qPP9n7NcToQd",
        "outputId": "be084d65-6cd8-465a-c5bf-4cd1514fed95"
      },
      "execution_count": 50,
      "outputs": [
        {
          "output_type": "stream",
          "name": "stdout",
          "text": [
            "ocupacao\n",
            "Não se aplica                              47000\n",
            "Vendedor de Comércio Varejista              3091\n",
            "Empregado Doméstico Diarista                2328\n",
            "Administrador                               2236\n",
            "Vendedor Em Domicílio                       1878\n",
            "Manicure                                    1873\n",
            "Pedreiro                                    1619\n",
            "Empregado doméstico nos serviços gerais     1532\n",
            "Motorista de Carro de Passeio               1522\n",
            "Vendedor Ambulante                          1397\n",
            "Assistente Administrativo                   1265\n",
            "Representante Comercial Autônomo            1138\n",
            "Vendedor Pracista                           1055\n",
            "Atendente de Lanchonete                     1050\n",
            "Vendedor Em Comércio Atacadista              980\n",
            "Operador de Caixa                            929\n",
            "Técnico de Enfermagem                        748\n",
            "Recepcionista, Em Geral                      708\n",
            "Comerciante Varejista                        652\n",
            "Motorista de Táxi                            617\n",
            "Name: count, dtype: int64\n"
          ]
        }
      ]
    },
    {
      "cell_type": "code",
      "source": [
        "# Verificando ocupações semelhantes\n",
        "print(df[df['ocupacao'].str.contains('motorista', case=False, na=False)]['ocupacao'].value_counts())\n"
      ],
      "metadata": {
        "colab": {
          "base_uri": "https://localhost:8080/",
          "height": 0
        },
        "id": "dvxXRy5CTwj9",
        "outputId": "04b0f420-52cf-4b41-913a-1b3f73cd8e9b"
      },
      "execution_count": 51,
      "outputs": [
        {
          "output_type": "stream",
          "name": "stdout",
          "text": [
            "ocupacao\n",
            "Motorista de Carro de Passeio                               1522\n",
            "Motorista de Táxi                                            617\n",
            "Ajudante de Motorista                                        213\n",
            "Motorista de ônibus Urbano                                   209\n",
            "Motorista de ônibus Rodoviário                               189\n",
            "Motorista de Caminhão (rotas Regionais e Internacionais)     134\n",
            "Motorista de Furgão Ou Veículo Similar                       124\n",
            "Motorista Operacional de Guincho                              15\n",
            "Motorista de Trólebus                                          4\n",
            "Name: count, dtype: int64\n"
          ]
        }
      ]
    },
    {
      "cell_type": "markdown",
      "source": [
        "A partir desses resultados, é possível notar que existe uma falta de padronização nas ocupações cadastradas, como por exemplo:\n",
        "\n",
        "\n",
        "```\n",
        "\"Motorista de Carro de Passeio\" (1522 registros)\n",
        "\"Motorista de Táxi\" (617 registros)\n",
        "\"Motorista de ônibus Urbano\" (209 registros)\n",
        "\"Motorista de ônibus Rodoviário\" (189 registros)\n",
        "```\n",
        "\n",
        "Esses casos mostram que existem várias variações para uma mesma profissão, como a de motorista, indicando que o campo provavelmente foi preenchido manualmente sem o uso de uma lista pré-definida. Isso gera fragmentação dos dados, o que pode prejudicar análises futuras.\n",
        "\n",
        "Outro ponto importante observado é que existem termos genéricos como \"Não se aplica\", que representa grande parte dos dados (47.000 registros), indicando possivelmente pessoas que não trabalham ou que a informação não foi fornecida.\n",
        "\n",
        "Provavelmente, o campo de ocupação é aberto, permitindo múltiplas entradas sem uma padronização específica. Com isso, é necessário uma etapa adicional de padronização e normalização das ocupações no banco de dados. Uma alternativa interessante seria criar categorias mais específicas, facilitando o aproveitamento e a qualidade das análises realizadas com esses dados."
      ],
      "metadata": {
        "id": "ulwclE0jS5I7"
      }
    },
    {
      "cell_type": "markdown",
      "source": [
        "### **Análise de consistência do campo obito**\n",
        "\n",
        "O objetivo desta análise foi verificar a consistência dos dados inseridos no campo obito, uma vez que identifiquei inicialmente múltiplos tipos e valores, como 0, 1, True e False, sendo necessário confirmar se estavam armazenados como valores distintos ou se eram representações textuais."
      ],
      "metadata": {
        "id": "y8yEjf4qXTnu"
      }
    },
    {
      "cell_type": "code",
      "source": [
        "# Verificar os valores únicos na coluna 'obito' e os tipos associados\n",
        "valores_unicos_obito = df['obito'].unique()\n",
        "print(\"Valores únicos encontrados em 'obito':\", valores_unicos_obito)\n",
        "\n",
        "# Contagem de cada valor\n",
        "contagem_valores_obito = df['obito'].value_counts(dropna=False)\n",
        "print(\"\\nContagem de cada valor encontrado:\")\n",
        "print(contagem_valores_obito)\n",
        "\n",
        "# Verificando os tipos de cada valor único\n",
        "print(\"\\nTipos dos valores únicos encontrados:\")\n",
        "for valor in valores_unicos_obito:\n",
        "    print(f\"Valor: {valor}, Tipo: {type(valor)}\")\n"
      ],
      "metadata": {
        "colab": {
          "base_uri": "https://localhost:8080/",
          "height": 0
        },
        "id": "Rq-S4rAwXVoU",
        "outputId": "291e4e05-f233-466e-dea4-4ee289cd3e57"
      },
      "execution_count": 52,
      "outputs": [
        {
          "output_type": "stream",
          "name": "stdout",
          "text": [
            "Valores únicos encontrados em 'obito': ['0' 'False' '1' 'True']\n",
            "\n",
            "Contagem de cada valor encontrado:\n",
            "obito\n",
            "0        90956\n",
            "False     7605\n",
            "1         1294\n",
            "True       145\n",
            "Name: count, dtype: int64\n",
            "\n",
            "Tipos dos valores únicos encontrados:\n",
            "Valor: 0, Tipo: <class 'str'>\n",
            "Valor: False, Tipo: <class 'str'>\n",
            "Valor: 1, Tipo: <class 'str'>\n",
            "Valor: True, Tipo: <class 'str'>\n"
          ]
        }
      ]
    },
    {
      "cell_type": "markdown",
      "source": [
        "Os resultados mostram uma inconsistência na captura e armazenamento dos dados do campo obito. Todos os valores encontrados (0, False, 1, True) estão armazenados como strings (str), e não como valores booleanos ou inteiros.\n",
        "\n",
        "Além disso, existe uma redundância nos valores: 0 e False são semanticamente iguais, assim como 1 e True. Essa variação pode ser resultado de múltiplas fontes ou sistemas diferentes alimentando o banco de dados, com definições variadas para representar os valores lógicos.\n",
        "\n",
        "Essas inconsistências dificultam as análises estatísticas/lógicas no dataset, pois exigem tratamento adicional antes de qualquer processamento. Para garantir uma análise consistente, irei padronizar esses dados, convertendo-os para um único tipo, como valores numéricos 0 e 1 conforme o exemplo abaixo:\n",
        "\n",
        "    0 ou False → convertido para 0 (paciente vivo).\n",
        "    1 ou True → convertido para 1 (paciente em óbito)."
      ],
      "metadata": {
        "id": "KW4R57TSYp76"
      }
    },
    {
      "cell_type": "markdown",
      "source": [
        "### **Análise da consistência do campo `luz_eletrica`**\n",
        "\n",
        "O objetivo dessa análise foi verificar a consistência dos valores inseridos no campo `luz_eletrica`, uma vez que identifiquei múltiplos tipos de dados, incluindo valores booleanos (`True/False`), e valores numéricos (`0` e `1`). Essa análise é a mesma que a anterior mas para campos diferente em que há uma mistura de valores booleanos (`True/False`) e valores numéricos (`0` e `1`)."
      ],
      "metadata": {
        "id": "aQbWRogmdG7l"
      }
    },
    {
      "cell_type": "code",
      "source": [
        "# Verificando valores únicos no campo 'luz_eletrica'\n",
        "valores_unicos_luz = df['luz_eletrica'].unique()\n",
        "print(f\"Valores únicos encontrados em 'luz_eletrica': {valores_unicos_luz}\")\n",
        "\n",
        "# Contagem dos valores únicos\n",
        "contagem_luz = df['luz_eletrica'].value_counts()\n",
        "print(\"\\nContagem de cada valor encontrado:\")\n",
        "print(contagem_luz)\n",
        "\n",
        "print(\"\\nTipos dos valores únicos encontrados:\")\n",
        "for valor in valores_unicos_luz:\n",
        "    print(f\"Valor: {valor}, Tipo: {type(valor)}\")"
      ],
      "metadata": {
        "colab": {
          "base_uri": "https://localhost:8080/",
          "height": 0
        },
        "id": "vdYCeCnJdnyB",
        "outputId": "07bc829c-6346-4deb-ee66-0f1089bc5f71"
      },
      "execution_count": 53,
      "outputs": [
        {
          "output_type": "stream",
          "name": "stdout",
          "text": [
            "Valores únicos encontrados em 'luz_eletrica': ['True' '1' '0' 'False']\n",
            "\n",
            "Contagem de cada valor encontrado:\n",
            "luz_eletrica\n",
            "1        83694\n",
            "True      9921\n",
            "0         5849\n",
            "False      536\n",
            "Name: count, dtype: int64\n",
            "\n",
            "Tipos dos valores únicos encontrados:\n",
            "Valor: True, Tipo: <class 'str'>\n",
            "Valor: 1, Tipo: <class 'str'>\n",
            "Valor: 0, Tipo: <class 'str'>\n",
            "Valor: False, Tipo: <class 'str'>\n"
          ]
        }
      ]
    },
    {
      "cell_type": "markdown",
      "source": [
        "Para evitar ambiguidades, seria melhor definir o tipo dos dados que este campo deve conter.\n",
        "\n",
        "Vou seguir as seguintes estratégias:\n",
        "\n",
        "  - `True` → `1`\n",
        "  - `False` → `0`\n",
        "\n",
        "Isso porque os valores inteiros são mais simples de manipular em análises estatísticas e modelos preditivos. Eles ocupam menos espaço e são mais facilmente interpretados por sistemas, bancos de dados e bibliotecas. Além disso, a utilização de 1/0 costuma ser mais intuitiva e menos ambígua ao realizar operações matemáticas ou agregações."
      ],
      "metadata": {
        "id": "cSP57hrIe_qO"
      }
    },
    {
      "cell_type": "code",
      "source": [
        "# Mapeando valores\n",
        "df['luz_eletrica_simplificado'] = df['luz_eletrica'].map({\n",
        "    '1': 'Sim',\n",
        "    'True': 'Sim',\n",
        "    '0': 'Não',\n",
        "    'False': 'Não'\n",
        "})\n",
        "\n",
        "# Contagem da recorrencia\n",
        "contagem_luz = df['luz_eletrica_simplificado'].value_counts()\n",
        "\n",
        "# Gráfico de pizza\n",
        "contagem_luz.plot.pie(autopct='%1.1f%%', labels=contagem_luz.index)\n",
        "plt.title('Proporção de domicílios com Luz Elétrica')\n",
        "plt.ylabel('')\n",
        "plt.show()"
      ],
      "metadata": {
        "colab": {
          "base_uri": "https://localhost:8080/",
          "height": 429
        },
        "id": "ISxJdWhbpJEC",
        "outputId": "1ebb6856-962b-4329-abe4-38eff1191fba"
      },
      "execution_count": 54,
      "outputs": [
        {
          "output_type": "display_data",
          "data": {
            "text/plain": [
              "<Figure size 640x480 with 1 Axes>"
            ],
            "image/png": "[encoded data removed]"
          },
          "metadata": {}
        }
      ]
    },
    {
      "cell_type": "markdown",
      "source": [
        "### **Análise da consistência do campo `familia_beneficiaria_auxilio_brasil`**\n",
        "\n",
        "Realizei a análise desse campo para verificar se existem inconsistências semelhantes às observadas em outros campos booleanos."
      ],
      "metadata": {
        "id": "Pz3IWX7cdHsG"
      }
    },
    {
      "cell_type": "code",
      "source": [
        "# Valores únicos no campo 'familia_beneficiaria_auxilio_brasil'\n",
        "valores_unicos_auxilio = df['familia_beneficiaria_auxilio_brasil'].unique()\n",
        "print(f\"Valores únicos em 'familia_beneficiaria_auxilio_brasil': {valores_unicos_auxilio}\")\n",
        "\n",
        "# Contagem dos valores únicos\n",
        "contagem_auxilio = df['familia_beneficiaria_auxilio_brasil'].value_counts()\n",
        "print(\"\\nContagem de cada valor encontrado:\")\n",
        "print(contagem_auxilio)\n",
        "\n",
        "# Verificando tipos dos valores únicos\n",
        "print(\"\\nTipos dos valores únicos encontrados:\")\n",
        "for valor in valores_unicos_auxilio:\n",
        "    print(f\"Valor: {valor}, Tipo: {type(valor)}\")"
      ],
      "metadata": {
        "id": "NqV1EBlRf0sV",
        "colab": {
          "base_uri": "https://localhost:8080/",
          "height": 0
        },
        "outputId": "6b90481a-6564-4c68-8fa9-10893de510b2"
      },
      "execution_count": 55,
      "outputs": [
        {
          "output_type": "stream",
          "name": "stdout",
          "text": [
            "Valores únicos em 'familia_beneficiaria_auxilio_brasil': ['0' '1' 'False' 'True']\n",
            "\n",
            "Contagem de cada valor encontrado:\n",
            "familia_beneficiaria_auxilio_brasil\n",
            "0        77219\n",
            "1        11833\n",
            "False     9433\n",
            "True      1515\n",
            "Name: count, dtype: int64\n",
            "\n",
            "Tipos dos valores únicos encontrados:\n",
            "Valor: 0, Tipo: <class 'str'>\n",
            "Valor: 1, Tipo: <class 'str'>\n",
            "Valor: False, Tipo: <class 'str'>\n",
            "Valor: True, Tipo: <class 'str'>\n"
          ]
        }
      ]
    },
    {
      "cell_type": "markdown",
      "source": [],
      "metadata": {
        "id": "pOxtVeDIgRGS"
      }
    },
    {
      "cell_type": "markdown",
      "source": [
        "### **Análise da consistência do campo `crianca_matriculada_creche_pre_escola`**\n",
        "\n",
        "Realizei também a análise desse campo para verificar se existem inconsistências de valores misturando tipos numéricos e booleanos."
      ],
      "metadata": {
        "id": "IKxR0QNcdihL"
      }
    },
    {
      "cell_type": "code",
      "source": [
        "# Valores únicos em 'crianca_matriculada_creche_pre_escola'\n",
        "valores_unicos_creche = df['crianca_matriculada_creche_pre_escola'].unique()\n",
        "print(f\"Valores únicos em 'crianca_matriculada_creche_pre_escola': {valores_unicos_creche}\")\n",
        "\n",
        "# Contagem dos valores únicos\n",
        "contagem_creche = df['crianca_matriculada_creche_pre_escola'].value_counts()\n",
        "print(\"\\nContagem de cada valor encontrado:\")\n",
        "print(contagem_creche)\n",
        "\n",
        "# Analisando tipos dos valores únicos\n",
        "print(\"\\nTipos dos valores únicos encontrados:\")\n",
        "for valor in valores_unicos_creche:\n",
        "    print(f\"Valor: {valor}, Tipo: {type(valor)}\")"
      ],
      "metadata": {
        "id": "armcVDi-gm2d",
        "colab": {
          "base_uri": "https://localhost:8080/",
          "height": 0
        },
        "outputId": "49f2a8c4-7a4b-4c45-cf01-9025a5282d9f"
      },
      "execution_count": 56,
      "outputs": [
        {
          "output_type": "stream",
          "name": "stdout",
          "text": [
            "Valores únicos em 'crianca_matriculada_creche_pre_escola': ['0' '1' 'False' 'True']\n",
            "\n",
            "Contagem de cada valor encontrado:\n",
            "crianca_matriculada_creche_pre_escola\n",
            "0        54744\n",
            "1        27291\n",
            "False    13633\n",
            "True      4332\n",
            "Name: count, dtype: int64\n",
            "\n",
            "Tipos dos valores únicos encontrados:\n",
            "Valor: 0, Tipo: <class 'str'>\n",
            "Valor: 1, Tipo: <class 'str'>\n",
            "Valor: False, Tipo: <class 'str'>\n",
            "Valor: True, Tipo: <class 'str'>\n"
          ]
        }
      ]
    },
    {
      "cell_type": "markdown",
      "source": [
        "Mais uma vez, constatei que o campo apresenta valores numéricos (`0`, `1`) misturados com valores booleanos (`True/False`). Como observado anteriormente, essa inconsistência gera dificuldade em análises dos dados.\n",
        "\n",
        "Vou manter a mesma forma de padronizacao de armazenamento para garantir a integridade e consistência da análise dos dados posteriormente."
      ],
      "metadata": {
        "id": "d98GfsEyg8hk"
      }
    },
    {
      "cell_type": "markdown",
      "source": [
        "## **Transformações de Dados com DBT**"
      ],
      "metadata": {
        "id": "Eo1wjhxUdpbl"
      }
    },
    {
      "cell_type": "markdown",
      "source": [
        "A fim de garantir a **qualidade, padronização e confiabilidade** dos dados, utilizei o **DBT** para estruturar o pipeline de transformação. O DBT permite modularizar o tratamento de dados, organizando as transformações em diferentes camadas para melhor organização, reusabilidade e rastreabilidade.\n",
        "\n",
        "As transformações foram divididas em **três camadas principais**, seguindo as boas práticas de modelagem de dados:\n",
        "\n",
        "1. **Camada Staging (`stg_dados_brutos.sql`)**  \n",
        "   - Carregar os dados brutos e aplicar transformações básicas.  \n",
        "   - Padronização de formatos de dados.  \n",
        "   - Tratamento de valores nulos e remoção de duplicatas.\n",
        "\n",
        "2. **Camada Intermediária (`int_tratamento.sql`)**  \n",
        "   - Aplicação de regras de limpeza mais complexas.  \n",
        "   - Normalização de categorias.  \n",
        "   - Ajuste de inconsistências nos dados.  \n",
        "\n",
        "3. **Camada Final (`mart_dados_finais.sql`)**  \n",
        "   - Estruturação dos dados de forma consolidada para análise.  \n",
        "   - Criação de tabelas prontas para consumo.\n",
        "\n",
        "\n",
        "Durante a implementação do pipeline de transformação no **DBT**, realizei os seguintes ajustes nos dados:\n",
        "\n",
        "*   **Conversão de valores booleanos** (`0`, `1`, `True`, `False`) para um formato único.  \n",
        "*   **Padronização de datas** para um formato consistente (`YYYY-MM-DD HH:MM:SS`).  \n",
        "*   **Normalização de categorias** para evitar grafias distintas de um mesmo valor.  \n",
        "*   **Tratamento de valores nulos** com preenchimento adequado ou remoção conforme a necessidade.  \n",
        "*   **Correção de valores extremos** (ex.: ajustes de unidades de medida erradas).  \n",
        "*   **Remoção de registros duplicados**, garantindo integridade na base de dados.  \n",
        "\n",
        "Após a implementação das transformações, validei os dados comparando os resultados antes e depois da aplicação do DBT. Para isso, foram realizadas verificações como:\n",
        "\n",
        "- **Análise de distribuição estatística** antes e depois da transformação.  \n",
        "- **Contagem de registros** para garantir que nenhuma informação relevante foi perdida.  \n",
        "- **Verificação de integridade e consistência dos dados tratados**.  "
      ],
      "metadata": {
        "id": "hcgpdU1ufZ0P"
      }
    }
  ]
}